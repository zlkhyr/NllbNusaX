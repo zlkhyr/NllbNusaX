{
  "cells": [
    {
      "cell_type": "markdown",
      "metadata": {
        "id": "view-in-github",
        "colab_type": "text"
      },
      "source": [
        "<a href=\"https://colab.research.google.com/github/zlkhyr/NllbNusaX/blob/main/NllbClassifier.ipynb\" target=\"_parent\"><img src=\"https://colab.research.google.com/assets/colab-badge.svg\" alt=\"Open In Colab\"/></a>"
      ]
    },
    {
      "cell_type": "code",
      "execution_count": 1,
      "metadata": {
        "id": "F2X9fcQl2Omy",
        "colab": {
          "base_uri": "https://localhost:8080/"
        },
        "outputId": "b87abc71-168c-47d9-b456-48b0531d1c2a"
      },
      "outputs": [
        {
          "output_type": "stream",
          "name": "stdout",
          "text": [
            "Collecting torchinfo\n",
            "  Downloading torchinfo-1.8.0-py3-none-any.whl.metadata (21 kB)\n",
            "Downloading torchinfo-1.8.0-py3-none-any.whl (23 kB)\n",
            "Installing collected packages: torchinfo\n",
            "Successfully installed torchinfo-1.8.0\n"
          ]
        }
      ],
      "source": [
        "# !pip install datasets\n",
        "!pip install torchinfo"
      ]
    },
    {
      "cell_type": "markdown",
      "metadata": {
        "id": "PBpVpCryt9_w"
      },
      "source": [
        "#Library"
      ]
    },
    {
      "cell_type": "code",
      "execution_count": 2,
      "metadata": {
        "id": "XCkbCPb8c4ff"
      },
      "outputs": [],
      "source": [
        "import torch\n",
        "import pandas as pd\n",
        "import torch.nn as nn\n",
        "from tqdm import tqdm\n",
        "from torch.optim import AdamW\n",
        "from google.colab import files\n",
        "from sklearn.metrics import accuracy_score, classification_report, confusion_matrix, f1_score\n",
        "import matplotlib.pyplot as plt\n",
        "import seaborn as sns\n",
        "import numpy as np\n",
        "from torch.utils.data import TensorDataset, DataLoader, random_split\n",
        "# from datasets import load_dataset, concatenate_datasets\n",
        "from transformers import (\n",
        "    AutoModelForSeq2SeqLM,\n",
        "    AutoTokenizer\n",
        ")"
      ]
    },
    {
      "cell_type": "markdown",
      "metadata": {
        "id": "EboxJCbat7BN"
      },
      "source": [
        "#Load Nllb"
      ]
    },
    {
      "cell_type": "code",
      "execution_count": null,
      "metadata": {
        "id": "Dx88K7arKlTg"
      },
      "outputs": [],
      "source": [
        "model_name = \"facebook/nllb-200-distilled-600M\"\n",
        "model = AutoModelForSeq2SeqLM.from_pretrained(model_name)\n",
        "tokenizer = AutoTokenizer.from_pretrained(model_name)"
      ]
    },
    {
      "cell_type": "markdown",
      "metadata": {
        "id": "PpPMmNjBuyQM"
      },
      "source": [
        "#Data Preporocessing"
      ]
    },
    {
      "cell_type": "code",
      "execution_count": 42,
      "metadata": {
        "id": "jyeSbeZ0D7CL"
      },
      "outputs": [],
      "source": [
        "train = pd.read_csv('/content/drive/MyDrive/Final_Year/data_train.csv')\n",
        "val = pd.read_csv('/content/drive/MyDrive/Final_Year/data_val.csv')\n",
        "test = pd.read_csv('/content/drive/MyDrive/Final_Year/data_test.csv')"
      ]
    },
    {
      "cell_type": "code",
      "execution_count": 43,
      "metadata": {
        "colab": {
          "base_uri": "https://localhost:8080/"
        },
        "id": "doaIC8Nnv_5k",
        "outputId": "3caaae61-155a-4583-c49e-c5330b4357e5"
      },
      "outputs": [
        {
          "output_type": "stream",
          "name": "stdout",
          "text": [
            "<class 'pandas.core.frame.DataFrame'>\n",
            "RangeIndex: 6000 entries, 0 to 5999\n",
            "Data columns (total 3 columns):\n",
            " #   Column  Non-Null Count  Dtype \n",
            "---  ------  --------------  ----- \n",
            " 0   text    6000 non-null   object\n",
            " 1   label   6000 non-null   object\n",
            " 2   bahasa  6000 non-null   object\n",
            "dtypes: object(3)\n",
            "memory usage: 140.8+ KB\n"
          ]
        }
      ],
      "source": [
        "train.info()"
      ]
    },
    {
      "cell_type": "code",
      "source": [
        "label_map = {\"negative\": 0, \"neutral\": 1, \"positive\": 2}\n",
        "train[\"label\"] = train[\"label\"].map(label_map)\n",
        "val[\"label\"] = val[\"label\"].map(label_map)\n",
        "test[\"label\"] = test[\"label\"].map(label_map)"
      ],
      "metadata": {
        "id": "WE0SF3rqg9vg"
      },
      "execution_count": 44,
      "outputs": []
    },
    {
      "cell_type": "code",
      "execution_count": 45,
      "metadata": {
        "id": "RHIFETJy0oSO"
      },
      "outputs": [],
      "source": [
        "# map_bahasa ={\n",
        "#   'aceh' : 'ace_Latn',\n",
        "#   'bali' : 'ban_Latn',\n",
        "#   'banjar' : 'bjn_Latn',\n",
        "#   'bugis' : 'bug_Latn',\n",
        "#   'indonesia' : 'ind_Latn',\n",
        "#   'inggris' : 'eng_Latn',\n",
        "#   'jawa' : 'jav_Latn',\n",
        "#   'minang' : 'min_Latn',\n",
        "#   'sunda' : 'sun_Latn',\n",
        "\n",
        "#   'batak toba' : 'ind_Latn',\n",
        "#   'madura' : 'ind_Latn',\n",
        "#   'ngaju' : 'ind_Latn'\n",
        "# }"
      ]
    },
    {
      "cell_type": "code",
      "execution_count": 46,
      "metadata": {
        "id": "0Y7hzSXLF2Fm"
      },
      "outputs": [],
      "source": [
        "def preprocess(dataset, shuffle):\n",
        "\n",
        "  encoding = tokenizer(\n",
        "      dataset['text'].tolist(),\n",
        "      padding=True,\n",
        "      truncation=True,\n",
        "      max_length=model.config.max_length,\n",
        "      return_tensors=\"pt\"\n",
        "  )\n",
        "\n",
        "  labels = torch.tensor(dataset['label'].tolist(), dtype=torch.long)\n",
        "  dataset = TensorDataset(encoding['input_ids'], encoding['attention_mask'], labels)\n",
        "  dataloader = DataLoader(dataset, batch_size=32, shuffle=shuffle)\n",
        "  return dataloader"
      ]
    },
    {
      "cell_type": "code",
      "execution_count": 47,
      "metadata": {
        "id": "tUjC6jgDEltc"
      },
      "outputs": [],
      "source": [
        "train_dataloader = preprocess(train, True)\n",
        "val_dataloader = preprocess(val, False)"
      ]
    },
    {
      "cell_type": "markdown",
      "source": [
        "## Preprocessing untuk dokumentasi"
      ],
      "metadata": {
        "id": "5-VOkWdeq49O"
      }
    },
    {
      "cell_type": "code",
      "source": [
        "train['label_numerik'] = train['label'].map(label_map)"
      ],
      "metadata": {
        "id": "KArReFt7hOJG"
      },
      "execution_count": 46,
      "outputs": []
    },
    {
      "cell_type": "code",
      "source": [
        "train[train.bahasa == 'indonesia'].head(10)"
      ],
      "metadata": {
        "colab": {
          "base_uri": "https://localhost:8080/",
          "height": 363
        },
        "id": "I3JI1My5pstC",
        "outputId": "dc912270-bb63-4502-8988-a78acdeb3b36"
      },
      "execution_count": 16,
      "outputs": [
        {
          "output_type": "execute_result",
          "data": {
            "text/plain": [
              "                                                   text     label     bahasa  \\\n",
              "3500  Nikmati cicilan 0% hingga 12 bulan untuk pemes...   neutral  indonesia   \n",
              "3501  Kue-kue yang disajikan bikin saya bernostalgia...  positive  indonesia   \n",
              "3502               Ibu pernah bekerja di grab indonesia   neutral  indonesia   \n",
              "3503  Paling suka banget makan siang di sini ayam sa...  positive  indonesia   \n",
              "3504                    Pelayanan bus DAMRI sangat baik  positive  indonesia   \n",
              "3505  Mau bikin postingan yang isinya mengedukasi cu...   neutral  indonesia   \n",
              "3506             Ratusan rumah di medan terendam banjir   neutral  indonesia   \n",
              "3507  Barangnya lumayan, cuma yang saya heran xiaomi...  negative  indonesia   \n",
              "3508  Sulit sekali mempercayai orang yang sudah pern...  negative  indonesia   \n",
              "3509  Lokasi di gombel dengan pemandangan semarang, ...  positive  indonesia   \n",
              "\n",
              "      label_numerik  \n",
              "3500              1  \n",
              "3501              2  \n",
              "3502              1  \n",
              "3503              2  \n",
              "3504              2  \n",
              "3505              1  \n",
              "3506              1  \n",
              "3507              0  \n",
              "3508              0  \n",
              "3509              2  "
            ],
            "text/html": [
              "\n",
              "  <div id=\"df-d79a6cc4-6194-4e13-89cc-2561a596179e\" class=\"colab-df-container\">\n",
              "    <div>\n",
              "<style scoped>\n",
              "    .dataframe tbody tr th:only-of-type {\n",
              "        vertical-align: middle;\n",
              "    }\n",
              "\n",
              "    .dataframe tbody tr th {\n",
              "        vertical-align: top;\n",
              "    }\n",
              "\n",
              "    .dataframe thead th {\n",
              "        text-align: right;\n",
              "    }\n",
              "</style>\n",
              "<table border=\"1\" class=\"dataframe\">\n",
              "  <thead>\n",
              "    <tr style=\"text-align: right;\">\n",
              "      <th></th>\n",
              "      <th>text</th>\n",
              "      <th>label</th>\n",
              "      <th>bahasa</th>\n",
              "      <th>label_numerik</th>\n",
              "    </tr>\n",
              "  </thead>\n",
              "  <tbody>\n",
              "    <tr>\n",
              "      <th>3500</th>\n",
              "      <td>Nikmati cicilan 0% hingga 12 bulan untuk pemes...</td>\n",
              "      <td>neutral</td>\n",
              "      <td>indonesia</td>\n",
              "      <td>1</td>\n",
              "    </tr>\n",
              "    <tr>\n",
              "      <th>3501</th>\n",
              "      <td>Kue-kue yang disajikan bikin saya bernostalgia...</td>\n",
              "      <td>positive</td>\n",
              "      <td>indonesia</td>\n",
              "      <td>2</td>\n",
              "    </tr>\n",
              "    <tr>\n",
              "      <th>3502</th>\n",
              "      <td>Ibu pernah bekerja di grab indonesia</td>\n",
              "      <td>neutral</td>\n",
              "      <td>indonesia</td>\n",
              "      <td>1</td>\n",
              "    </tr>\n",
              "    <tr>\n",
              "      <th>3503</th>\n",
              "      <td>Paling suka banget makan siang di sini ayam sa...</td>\n",
              "      <td>positive</td>\n",
              "      <td>indonesia</td>\n",
              "      <td>2</td>\n",
              "    </tr>\n",
              "    <tr>\n",
              "      <th>3504</th>\n",
              "      <td>Pelayanan bus DAMRI sangat baik</td>\n",
              "      <td>positive</td>\n",
              "      <td>indonesia</td>\n",
              "      <td>2</td>\n",
              "    </tr>\n",
              "    <tr>\n",
              "      <th>3505</th>\n",
              "      <td>Mau bikin postingan yang isinya mengedukasi cu...</td>\n",
              "      <td>neutral</td>\n",
              "      <td>indonesia</td>\n",
              "      <td>1</td>\n",
              "    </tr>\n",
              "    <tr>\n",
              "      <th>3506</th>\n",
              "      <td>Ratusan rumah di medan terendam banjir</td>\n",
              "      <td>neutral</td>\n",
              "      <td>indonesia</td>\n",
              "      <td>1</td>\n",
              "    </tr>\n",
              "    <tr>\n",
              "      <th>3507</th>\n",
              "      <td>Barangnya lumayan, cuma yang saya heran xiaomi...</td>\n",
              "      <td>negative</td>\n",
              "      <td>indonesia</td>\n",
              "      <td>0</td>\n",
              "    </tr>\n",
              "    <tr>\n",
              "      <th>3508</th>\n",
              "      <td>Sulit sekali mempercayai orang yang sudah pern...</td>\n",
              "      <td>negative</td>\n",
              "      <td>indonesia</td>\n",
              "      <td>0</td>\n",
              "    </tr>\n",
              "    <tr>\n",
              "      <th>3509</th>\n",
              "      <td>Lokasi di gombel dengan pemandangan semarang, ...</td>\n",
              "      <td>positive</td>\n",
              "      <td>indonesia</td>\n",
              "      <td>2</td>\n",
              "    </tr>\n",
              "  </tbody>\n",
              "</table>\n",
              "</div>\n",
              "    <div class=\"colab-df-buttons\">\n",
              "\n",
              "  <div class=\"colab-df-container\">\n",
              "    <button class=\"colab-df-convert\" onclick=\"convertToInteractive('df-d79a6cc4-6194-4e13-89cc-2561a596179e')\"\n",
              "            title=\"Convert this dataframe to an interactive table.\"\n",
              "            style=\"display:none;\">\n",
              "\n",
              "  <svg xmlns=\"http://www.w3.org/2000/svg\" height=\"24px\" viewBox=\"0 -960 960 960\">\n",
              "    <path d=\"M120-120v-720h720v720H120Zm60-500h600v-160H180v160Zm220 220h160v-160H400v160Zm0 220h160v-160H400v160ZM180-400h160v-160H180v160Zm440 0h160v-160H620v160ZM180-180h160v-160H180v160Zm440 0h160v-160H620v160Z\"/>\n",
              "  </svg>\n",
              "    </button>\n",
              "\n",
              "  <style>\n",
              "    .colab-df-container {\n",
              "      display:flex;\n",
              "      gap: 12px;\n",
              "    }\n",
              "\n",
              "    .colab-df-convert {\n",
              "      background-color: #E8F0FE;\n",
              "      border: none;\n",
              "      border-radius: 50%;\n",
              "      cursor: pointer;\n",
              "      display: none;\n",
              "      fill: #1967D2;\n",
              "      height: 32px;\n",
              "      padding: 0 0 0 0;\n",
              "      width: 32px;\n",
              "    }\n",
              "\n",
              "    .colab-df-convert:hover {\n",
              "      background-color: #E2EBFA;\n",
              "      box-shadow: 0px 1px 2px rgba(60, 64, 67, 0.3), 0px 1px 3px 1px rgba(60, 64, 67, 0.15);\n",
              "      fill: #174EA6;\n",
              "    }\n",
              "\n",
              "    .colab-df-buttons div {\n",
              "      margin-bottom: 4px;\n",
              "    }\n",
              "\n",
              "    [theme=dark] .colab-df-convert {\n",
              "      background-color: #3B4455;\n",
              "      fill: #D2E3FC;\n",
              "    }\n",
              "\n",
              "    [theme=dark] .colab-df-convert:hover {\n",
              "      background-color: #434B5C;\n",
              "      box-shadow: 0px 1px 3px 1px rgba(0, 0, 0, 0.15);\n",
              "      filter: drop-shadow(0px 1px 2px rgba(0, 0, 0, 0.3));\n",
              "      fill: #FFFFFF;\n",
              "    }\n",
              "  </style>\n",
              "\n",
              "    <script>\n",
              "      const buttonEl =\n",
              "        document.querySelector('#df-d79a6cc4-6194-4e13-89cc-2561a596179e button.colab-df-convert');\n",
              "      buttonEl.style.display =\n",
              "        google.colab.kernel.accessAllowed ? 'block' : 'none';\n",
              "\n",
              "      async function convertToInteractive(key) {\n",
              "        const element = document.querySelector('#df-d79a6cc4-6194-4e13-89cc-2561a596179e');\n",
              "        const dataTable =\n",
              "          await google.colab.kernel.invokeFunction('convertToInteractive',\n",
              "                                                    [key], {});\n",
              "        if (!dataTable) return;\n",
              "\n",
              "        const docLinkHtml = 'Like what you see? Visit the ' +\n",
              "          '<a target=\"_blank\" href=https://colab.research.google.com/notebooks/data_table.ipynb>data table notebook</a>'\n",
              "          + ' to learn more about interactive tables.';\n",
              "        element.innerHTML = '';\n",
              "        dataTable['output_type'] = 'display_data';\n",
              "        await google.colab.output.renderOutput(dataTable, element);\n",
              "        const docLink = document.createElement('div');\n",
              "        docLink.innerHTML = docLinkHtml;\n",
              "        element.appendChild(docLink);\n",
              "      }\n",
              "    </script>\n",
              "  </div>\n",
              "\n",
              "\n",
              "    <div id=\"df-fd49c47b-1252-469a-b320-4be3628a8872\">\n",
              "      <button class=\"colab-df-quickchart\" onclick=\"quickchart('df-fd49c47b-1252-469a-b320-4be3628a8872')\"\n",
              "                title=\"Suggest charts\"\n",
              "                style=\"display:none;\">\n",
              "\n",
              "<svg xmlns=\"http://www.w3.org/2000/svg\" height=\"24px\"viewBox=\"0 0 24 24\"\n",
              "     width=\"24px\">\n",
              "    <g>\n",
              "        <path d=\"M19 3H5c-1.1 0-2 .9-2 2v14c0 1.1.9 2 2 2h14c1.1 0 2-.9 2-2V5c0-1.1-.9-2-2-2zM9 17H7v-7h2v7zm4 0h-2V7h2v10zm4 0h-2v-4h2v4z\"/>\n",
              "    </g>\n",
              "</svg>\n",
              "      </button>\n",
              "\n",
              "<style>\n",
              "  .colab-df-quickchart {\n",
              "      --bg-color: #E8F0FE;\n",
              "      --fill-color: #1967D2;\n",
              "      --hover-bg-color: #E2EBFA;\n",
              "      --hover-fill-color: #174EA6;\n",
              "      --disabled-fill-color: #AAA;\n",
              "      --disabled-bg-color: #DDD;\n",
              "  }\n",
              "\n",
              "  [theme=dark] .colab-df-quickchart {\n",
              "      --bg-color: #3B4455;\n",
              "      --fill-color: #D2E3FC;\n",
              "      --hover-bg-color: #434B5C;\n",
              "      --hover-fill-color: #FFFFFF;\n",
              "      --disabled-bg-color: #3B4455;\n",
              "      --disabled-fill-color: #666;\n",
              "  }\n",
              "\n",
              "  .colab-df-quickchart {\n",
              "    background-color: var(--bg-color);\n",
              "    border: none;\n",
              "    border-radius: 50%;\n",
              "    cursor: pointer;\n",
              "    display: none;\n",
              "    fill: var(--fill-color);\n",
              "    height: 32px;\n",
              "    padding: 0;\n",
              "    width: 32px;\n",
              "  }\n",
              "\n",
              "  .colab-df-quickchart:hover {\n",
              "    background-color: var(--hover-bg-color);\n",
              "    box-shadow: 0 1px 2px rgba(60, 64, 67, 0.3), 0 1px 3px 1px rgba(60, 64, 67, 0.15);\n",
              "    fill: var(--button-hover-fill-color);\n",
              "  }\n",
              "\n",
              "  .colab-df-quickchart-complete:disabled,\n",
              "  .colab-df-quickchart-complete:disabled:hover {\n",
              "    background-color: var(--disabled-bg-color);\n",
              "    fill: var(--disabled-fill-color);\n",
              "    box-shadow: none;\n",
              "  }\n",
              "\n",
              "  .colab-df-spinner {\n",
              "    border: 2px solid var(--fill-color);\n",
              "    border-color: transparent;\n",
              "    border-bottom-color: var(--fill-color);\n",
              "    animation:\n",
              "      spin 1s steps(1) infinite;\n",
              "  }\n",
              "\n",
              "  @keyframes spin {\n",
              "    0% {\n",
              "      border-color: transparent;\n",
              "      border-bottom-color: var(--fill-color);\n",
              "      border-left-color: var(--fill-color);\n",
              "    }\n",
              "    20% {\n",
              "      border-color: transparent;\n",
              "      border-left-color: var(--fill-color);\n",
              "      border-top-color: var(--fill-color);\n",
              "    }\n",
              "    30% {\n",
              "      border-color: transparent;\n",
              "      border-left-color: var(--fill-color);\n",
              "      border-top-color: var(--fill-color);\n",
              "      border-right-color: var(--fill-color);\n",
              "    }\n",
              "    40% {\n",
              "      border-color: transparent;\n",
              "      border-right-color: var(--fill-color);\n",
              "      border-top-color: var(--fill-color);\n",
              "    }\n",
              "    60% {\n",
              "      border-color: transparent;\n",
              "      border-right-color: var(--fill-color);\n",
              "    }\n",
              "    80% {\n",
              "      border-color: transparent;\n",
              "      border-right-color: var(--fill-color);\n",
              "      border-bottom-color: var(--fill-color);\n",
              "    }\n",
              "    90% {\n",
              "      border-color: transparent;\n",
              "      border-bottom-color: var(--fill-color);\n",
              "    }\n",
              "  }\n",
              "</style>\n",
              "\n",
              "      <script>\n",
              "        async function quickchart(key) {\n",
              "          const quickchartButtonEl =\n",
              "            document.querySelector('#' + key + ' button');\n",
              "          quickchartButtonEl.disabled = true;  // To prevent multiple clicks.\n",
              "          quickchartButtonEl.classList.add('colab-df-spinner');\n",
              "          try {\n",
              "            const charts = await google.colab.kernel.invokeFunction(\n",
              "                'suggestCharts', [key], {});\n",
              "          } catch (error) {\n",
              "            console.error('Error during call to suggestCharts:', error);\n",
              "          }\n",
              "          quickchartButtonEl.classList.remove('colab-df-spinner');\n",
              "          quickchartButtonEl.classList.add('colab-df-quickchart-complete');\n",
              "        }\n",
              "        (() => {\n",
              "          let quickchartButtonEl =\n",
              "            document.querySelector('#df-fd49c47b-1252-469a-b320-4be3628a8872 button');\n",
              "          quickchartButtonEl.style.display =\n",
              "            google.colab.kernel.accessAllowed ? 'block' : 'none';\n",
              "        })();\n",
              "      </script>\n",
              "    </div>\n",
              "\n",
              "    </div>\n",
              "  </div>\n"
            ],
            "application/vnd.google.colaboratory.intrinsic+json": {
              "type": "dataframe",
              "summary": "{\n  \"name\": \"train[train\",\n  \"rows\": 10,\n  \"fields\": [\n    {\n      \"column\": \"text\",\n      \"properties\": {\n        \"dtype\": \"string\",\n        \"num_unique_values\": 10,\n        \"samples\": [\n          \"Sulit sekali mempercayai orang yang sudah pernah berkhianat\",\n          \"Kue-kue yang disajikan bikin saya bernostalgia. Semuanya tipikal kue zaman dulu, baik dari penampilan maupun rasa. Kuenya enak dan harganya juga murah.\",\n          \"Mau bikin postingan yang isinya mengedukasi customers gojek.\"\n        ],\n        \"semantic_type\": \"\",\n        \"description\": \"\"\n      }\n    },\n    {\n      \"column\": \"label\",\n      \"properties\": {\n        \"dtype\": \"category\",\n        \"num_unique_values\": 3,\n        \"samples\": [\n          \"neutral\",\n          \"positive\",\n          \"negative\"\n        ],\n        \"semantic_type\": \"\",\n        \"description\": \"\"\n      }\n    },\n    {\n      \"column\": \"bahasa\",\n      \"properties\": {\n        \"dtype\": \"category\",\n        \"num_unique_values\": 1,\n        \"samples\": [\n          \"indonesia\"\n        ],\n        \"semantic_type\": \"\",\n        \"description\": \"\"\n      }\n    },\n    {\n      \"column\": \"label_numerik\",\n      \"properties\": {\n        \"dtype\": \"number\",\n        \"std\": 0,\n        \"min\": 0,\n        \"max\": 2,\n        \"num_unique_values\": 3,\n        \"samples\": [\n          1\n        ],\n        \"semantic_type\": \"\",\n        \"description\": \"\"\n      }\n    }\n  ]\n}"
            }
          },
          "metadata": {},
          "execution_count": 16
        }
      ]
    },
    {
      "cell_type": "code",
      "source": [
        "encoding = tokenizer(\n",
        "    train['text'].tolist(),\n",
        "    padding=True,\n",
        "    truncation=True,\n",
        "    max_length=tokenizer.model_max_length,\n",
        "    return_tensors=\"pt\"\n",
        ")"
      ],
      "metadata": {
        "id": "MMvco4nThZub"
      },
      "execution_count": 29,
      "outputs": []
    },
    {
      "cell_type": "code",
      "source": [
        "for k, v in encoding.items():\n",
        "  print(k,\":\\n\",v)"
      ],
      "metadata": {
        "colab": {
          "base_uri": "https://localhost:8080/"
        },
        "id": "EFc1GO_yhiMd",
        "outputId": "0234f7f8-a3bc-4227-9312-b26e50ee55fc"
      },
      "execution_count": 18,
      "outputs": [
        {
          "output_type": "stream",
          "name": "stdout",
          "text": [
            "input_ids :\n",
            " tensor([[256047,    909,   2244,  ...,      1,      1,      1],\n",
            "        [256047,   1335,    407,  ...,      1,      1,      1],\n",
            "        [256047,  52423,   3732,  ...,      1,      1,      1],\n",
            "        ...,\n",
            "        [256047, 171088,  11800,  ...,      1,      1,      1],\n",
            "        [256047,   7432,   5103,  ...,      1,      1,      1],\n",
            "        [256047,  23153,     96,  ...,      1,      1,      1]])\n",
            "attention_mask :\n",
            " tensor([[1, 1, 1,  ..., 0, 0, 0],\n",
            "        [1, 1, 1,  ..., 0, 0, 0],\n",
            "        [1, 1, 1,  ..., 0, 0, 0],\n",
            "        ...,\n",
            "        [1, 1, 1,  ..., 0, 0, 0],\n",
            "        [1, 1, 1,  ..., 0, 0, 0],\n",
            "        [1, 1, 1,  ..., 0, 0, 0]])\n"
          ]
        }
      ]
    },
    {
      "cell_type": "code",
      "source": [
        "labels = torch.tensor(train['label_numerik'].tolist(), dtype=torch.long)\n",
        "labels"
      ],
      "metadata": {
        "colab": {
          "base_uri": "https://localhost:8080/"
        },
        "id": "qG_IoeiAnFtE",
        "outputId": "985de8ed-5fd4-4a0a-927c-a3c467fda83d"
      },
      "execution_count": 20,
      "outputs": [
        {
          "output_type": "execute_result",
          "data": {
            "text/plain": [
              "tensor([1, 2, 1,  ..., 2, 0, 0])"
            ]
          },
          "metadata": {},
          "execution_count": 20
        }
      ]
    },
    {
      "cell_type": "code",
      "source": [
        "dataset = TensorDataset(encoding['input_ids'], encoding['attention_mask'], labels)"
      ],
      "metadata": {
        "id": "JqyY6jCZncl6"
      },
      "execution_count": 21,
      "outputs": []
    },
    {
      "cell_type": "code",
      "source": [
        "dataset.tensors"
      ],
      "metadata": {
        "colab": {
          "base_uri": "https://localhost:8080/"
        },
        "id": "P5XCJMdunecB",
        "outputId": "aaa7b40d-22f5-4f0d-9836-070460381fa9"
      },
      "execution_count": 22,
      "outputs": [
        {
          "output_type": "execute_result",
          "data": {
            "text/plain": [
              "(tensor([[256047,    909,   2244,  ...,      1,      1,      1],\n",
              "         [256047,   1335,    407,  ...,      1,      1,      1],\n",
              "         [256047,  52423,   3732,  ...,      1,      1,      1],\n",
              "         ...,\n",
              "         [256047, 171088,  11800,  ...,      1,      1,      1],\n",
              "         [256047,   7432,   5103,  ...,      1,      1,      1],\n",
              "         [256047,  23153,     96,  ...,      1,      1,      1]]),\n",
              " tensor([[1, 1, 1,  ..., 0, 0, 0],\n",
              "         [1, 1, 1,  ..., 0, 0, 0],\n",
              "         [1, 1, 1,  ..., 0, 0, 0],\n",
              "         ...,\n",
              "         [1, 1, 1,  ..., 0, 0, 0],\n",
              "         [1, 1, 1,  ..., 0, 0, 0],\n",
              "         [1, 1, 1,  ..., 0, 0, 0]]),\n",
              " tensor([1, 2, 1,  ..., 2, 0, 0]))"
            ]
          },
          "metadata": {},
          "execution_count": 22
        }
      ]
    },
    {
      "cell_type": "code",
      "source": [
        "dataloader = DataLoader(dataset, batch_size=32, shuffle=True)"
      ],
      "metadata": {
        "id": "7RGPFwF7nqrh"
      },
      "execution_count": 23,
      "outputs": []
    },
    {
      "cell_type": "code",
      "source": [
        "for batch in dataloader:\n",
        "  print(batch[0] ,'\\n', batch[1], '\\n', batch[2])\n",
        "  break"
      ],
      "metadata": {
        "colab": {
          "base_uri": "https://localhost:8080/"
        },
        "id": "NzVulcQynvMh",
        "outputId": "3b910a48-7ffd-4eef-a2e8-6ce95ae52f3f"
      },
      "execution_count": 27,
      "outputs": [
        {
          "output_type": "stream",
          "name": "stdout",
          "text": [
            "tensor([[256047,   3459,  23574,  ...,      1,      1,      1],\n",
            "        [256047, 131631,   4587,  ...,      1,      1,      1],\n",
            "        [256047,  29089,  69105,  ...,      1,      1,      1],\n",
            "        ...,\n",
            "        [256047,  41989,     13,  ...,      1,      1,      1],\n",
            "        [256047,  39157,    969,  ...,      1,      1,      1],\n",
            "        [256047, 197049,   6360,  ...,      1,      1,      1]]) \n",
            " tensor([[1, 1, 1,  ..., 0, 0, 0],\n",
            "        [1, 1, 1,  ..., 0, 0, 0],\n",
            "        [1, 1, 1,  ..., 0, 0, 0],\n",
            "        ...,\n",
            "        [1, 1, 1,  ..., 0, 0, 0],\n",
            "        [1, 1, 1,  ..., 0, 0, 0],\n",
            "        [1, 1, 1,  ..., 0, 0, 0]]) \n",
            " tensor([0, 1, 0, 0, 1, 0, 2, 0, 1, 0, 0, 2, 2, 2, 2, 2, 0, 1, 0, 2, 0, 0, 0, 2,\n",
            "        0, 0, 0, 0, 0, 0, 0, 2])\n"
          ]
        }
      ]
    },
    {
      "cell_type": "markdown",
      "metadata": {
        "id": "yP_KrBWNtq9B"
      },
      "source": [
        "#Pengembangan Model"
      ]
    },
    {
      "cell_type": "markdown",
      "metadata": {
        "id": "s7b4z6QXC2DV"
      },
      "source": [
        "##Model NllbClassifier"
      ]
    },
    {
      "cell_type": "code",
      "execution_count": 48,
      "metadata": {
        "id": "WiAqtUpyg2dv"
      },
      "outputs": [],
      "source": [
        "class NllbClassifier(nn.Module):\n",
        "    def __init__(self, encoder, num_labels=3):\n",
        "        super().__init__()\n",
        "        self.encoder = encoder #encoder dari NLLB model\n",
        "        self.dropout = nn.Dropout(0.2)\n",
        "        self.classifier = nn.Linear(encoder.config.hidden_size, num_labels)\n",
        "\n",
        "    def mean_pooling(self, model_output, attention_mask):\n",
        "        token_embeddings = model_output.last_hidden_state\n",
        "        input_mask_expanded = attention_mask.unsqueeze(-1).expand(token_embeddings.size()).float()\n",
        "        return torch.sum(token_embeddings * input_mask_expanded, 1) / torch.clamp(input_mask_expanded.sum(1), min=1e-9)\n",
        "\n",
        "    def forward(self, input_ids, attention_mask):\n",
        "        #Menghapus spesial token di awal tiap text input (language token)\n",
        "        input_ids = input_ids[:, 1:]\n",
        "        attention_mask = attention_mask[:, 1:]\n",
        "\n",
        "        #Forward pass ke encoder\n",
        "        outputs = self.encoder(input_ids=input_ids, attention_mask=attention_mask)\n",
        "\n",
        "        # Pooling dengan attention_mask\n",
        "        pooled_output = self.mean_pooling(outputs, attention_mask)\n",
        "\n",
        "        # Dropout layer\n",
        "        pooled_output = self.dropout(pooled_output)\n",
        "\n",
        "        # Classification layer\n",
        "        logits = self.classifier(pooled_output)\n",
        "\n",
        "        return logits"
      ]
    },
    {
      "cell_type": "markdown",
      "metadata": {
        "id": "NJgf3aRfDN0H"
      },
      "source": [
        "#Model"
      ]
    },
    {
      "cell_type": "code",
      "execution_count": 49,
      "metadata": {
        "id": "ckGqL1E5hz8o"
      },
      "outputs": [],
      "source": [
        "encoder = model.get_encoder()"
      ]
    },
    {
      "cell_type": "code",
      "execution_count": 50,
      "metadata": {
        "colab": {
          "base_uri": "https://localhost:8080/"
        },
        "id": "mocN0ZyWqron",
        "outputId": "c006e052-114e-4859-d8f5-e44d4f2a10da"
      },
      "outputs": [
        {
          "output_type": "execute_result",
          "data": {
            "text/plain": [
              "M2M100Encoder(\n",
              "  (embed_tokens): M2M100ScaledWordEmbedding(256206, 1024, padding_idx=1)\n",
              "  (embed_positions): M2M100SinusoidalPositionalEmbedding()\n",
              "  (layers): ModuleList(\n",
              "    (0-11): 12 x M2M100EncoderLayer(\n",
              "      (self_attn): M2M100Attention(\n",
              "        (k_proj): Linear(in_features=1024, out_features=1024, bias=True)\n",
              "        (v_proj): Linear(in_features=1024, out_features=1024, bias=True)\n",
              "        (q_proj): Linear(in_features=1024, out_features=1024, bias=True)\n",
              "        (out_proj): Linear(in_features=1024, out_features=1024, bias=True)\n",
              "      )\n",
              "      (self_attn_layer_norm): LayerNorm((1024,), eps=1e-05, elementwise_affine=True)\n",
              "      (activation_fn): ReLU()\n",
              "      (fc1): Linear(in_features=1024, out_features=4096, bias=True)\n",
              "      (fc2): Linear(in_features=4096, out_features=1024, bias=True)\n",
              "      (final_layer_norm): LayerNorm((1024,), eps=1e-05, elementwise_affine=True)\n",
              "    )\n",
              "  )\n",
              "  (layer_norm): LayerNorm((1024,), eps=1e-05, elementwise_affine=True)\n",
              ")"
            ]
          },
          "metadata": {},
          "execution_count": 50
        }
      ],
      "source": [
        "encoder"
      ]
    },
    {
      "cell_type": "code",
      "execution_count": 51,
      "metadata": {
        "id": "BV08uVhqJt6r"
      },
      "outputs": [],
      "source": [
        "modelFT = NllbClassifier(encoder, num_labels=3)"
      ]
    },
    {
      "cell_type": "code",
      "execution_count": 52,
      "metadata": {
        "colab": {
          "base_uri": "https://localhost:8080/"
        },
        "id": "0HmHwYuZLX6y",
        "outputId": "37e9f77c-294f-4394-d331-878265023d94"
      },
      "outputs": [
        {
          "output_type": "execute_result",
          "data": {
            "text/plain": [
              "NllbClassifier(\n",
              "  (encoder): M2M100Encoder(\n",
              "    (embed_tokens): M2M100ScaledWordEmbedding(256206, 1024, padding_idx=1)\n",
              "    (embed_positions): M2M100SinusoidalPositionalEmbedding()\n",
              "    (layers): ModuleList(\n",
              "      (0-11): 12 x M2M100EncoderLayer(\n",
              "        (self_attn): M2M100Attention(\n",
              "          (k_proj): Linear(in_features=1024, out_features=1024, bias=True)\n",
              "          (v_proj): Linear(in_features=1024, out_features=1024, bias=True)\n",
              "          (q_proj): Linear(in_features=1024, out_features=1024, bias=True)\n",
              "          (out_proj): Linear(in_features=1024, out_features=1024, bias=True)\n",
              "        )\n",
              "        (self_attn_layer_norm): LayerNorm((1024,), eps=1e-05, elementwise_affine=True)\n",
              "        (activation_fn): ReLU()\n",
              "        (fc1): Linear(in_features=1024, out_features=4096, bias=True)\n",
              "        (fc2): Linear(in_features=4096, out_features=1024, bias=True)\n",
              "        (final_layer_norm): LayerNorm((1024,), eps=1e-05, elementwise_affine=True)\n",
              "      )\n",
              "    )\n",
              "    (layer_norm): LayerNorm((1024,), eps=1e-05, elementwise_affine=True)\n",
              "  )\n",
              "  (dropout): Dropout(p=0.2, inplace=False)\n",
              "  (classifier): Linear(in_features=1024, out_features=3, bias=True)\n",
              ")"
            ]
          },
          "metadata": {},
          "execution_count": 52
        }
      ],
      "source": [
        "modelFT"
      ]
    },
    {
      "cell_type": "markdown",
      "metadata": {
        "id": "u7EINjb2LS4A"
      },
      "source": [
        "#Freezing\n",
        "\n"
      ]
    },
    {
      "cell_type": "code",
      "execution_count": 70,
      "metadata": {
        "id": "06ihP_pQHB2r"
      },
      "outputs": [],
      "source": [
        "for param in modelFT.encoder.embed_tokens.parameters():\n",
        "  param.requires_grad = False"
      ]
    },
    {
      "cell_type": "markdown",
      "metadata": {
        "id": "iq5qiJsPcB8f"
      },
      "source": [
        "#Training"
      ]
    },
    {
      "cell_type": "code",
      "execution_count": 53,
      "metadata": {
        "colab": {
          "base_uri": "https://localhost:8080/"
        },
        "id": "vnBmLXAeE8Uu",
        "outputId": "47d3d27e-4819-4a37-b418-b6b246433a45"
      },
      "outputs": [
        {
          "output_type": "stream",
          "name": "stdout",
          "text": [
            "Code running di: cuda\n"
          ]
        }
      ],
      "source": [
        "device = torch.device(\"cuda\" if torch.cuda.is_available() else \"cpu\")\n",
        "print(f\"Code running di: {device}\")"
      ]
    },
    {
      "cell_type": "code",
      "execution_count": 54,
      "metadata": {
        "colab": {
          "base_uri": "https://localhost:8080/"
        },
        "id": "rxTL5VFJCHTk",
        "outputId": "9ad67d75-e4f2-40a0-d981-e07d84c548e1"
      },
      "outputs": [
        {
          "output_type": "execute_result",
          "data": {
            "text/plain": [
              "NllbClassifier(\n",
              "  (encoder): M2M100Encoder(\n",
              "    (embed_tokens): M2M100ScaledWordEmbedding(256206, 1024, padding_idx=1)\n",
              "    (embed_positions): M2M100SinusoidalPositionalEmbedding()\n",
              "    (layers): ModuleList(\n",
              "      (0-11): 12 x M2M100EncoderLayer(\n",
              "        (self_attn): M2M100Attention(\n",
              "          (k_proj): Linear(in_features=1024, out_features=1024, bias=True)\n",
              "          (v_proj): Linear(in_features=1024, out_features=1024, bias=True)\n",
              "          (q_proj): Linear(in_features=1024, out_features=1024, bias=True)\n",
              "          (out_proj): Linear(in_features=1024, out_features=1024, bias=True)\n",
              "        )\n",
              "        (self_attn_layer_norm): LayerNorm((1024,), eps=1e-05, elementwise_affine=True)\n",
              "        (activation_fn): ReLU()\n",
              "        (fc1): Linear(in_features=1024, out_features=4096, bias=True)\n",
              "        (fc2): Linear(in_features=4096, out_features=1024, bias=True)\n",
              "        (final_layer_norm): LayerNorm((1024,), eps=1e-05, elementwise_affine=True)\n",
              "      )\n",
              "    )\n",
              "    (layer_norm): LayerNorm((1024,), eps=1e-05, elementwise_affine=True)\n",
              "  )\n",
              "  (dropout): Dropout(p=0.2, inplace=False)\n",
              "  (classifier): Linear(in_features=1024, out_features=3, bias=True)\n",
              ")"
            ]
          },
          "metadata": {},
          "execution_count": 54
        }
      ],
      "source": [
        "modelFT.to(device)"
      ]
    },
    {
      "cell_type": "code",
      "source": [
        "from torchinfo import summary\n",
        "summary(modelFT)"
      ],
      "metadata": {
        "colab": {
          "base_uri": "https://localhost:8080/"
        },
        "id": "znpJLrRa2rS5",
        "outputId": "2e25f0b4-21a3-404a-cb2a-b1eb08482a80"
      },
      "execution_count": 55,
      "outputs": [
        {
          "output_type": "execute_result",
          "data": {
            "text/plain": [
              "================================================================================\n",
              "Layer (type:depth-idx)                                  Param #\n",
              "================================================================================\n",
              "NllbClassifier                                          --\n",
              "├─M2M100Encoder: 1-1                                    --\n",
              "│    └─M2M100ScaledWordEmbedding: 2-1                   262,354,944\n",
              "│    └─M2M100SinusoidalPositionalEmbedding: 2-2         --\n",
              "│    └─ModuleList: 2-3                                  --\n",
              "│    │    └─M2M100EncoderLayer: 3-1                     12,596,224\n",
              "│    │    └─M2M100EncoderLayer: 3-2                     12,596,224\n",
              "│    │    └─M2M100EncoderLayer: 3-3                     12,596,224\n",
              "│    │    └─M2M100EncoderLayer: 3-4                     12,596,224\n",
              "│    │    └─M2M100EncoderLayer: 3-5                     12,596,224\n",
              "│    │    └─M2M100EncoderLayer: 3-6                     12,596,224\n",
              "│    │    └─M2M100EncoderLayer: 3-7                     12,596,224\n",
              "│    │    └─M2M100EncoderLayer: 3-8                     12,596,224\n",
              "│    │    └─M2M100EncoderLayer: 3-9                     12,596,224\n",
              "│    │    └─M2M100EncoderLayer: 3-10                    12,596,224\n",
              "│    │    └─M2M100EncoderLayer: 3-11                    12,596,224\n",
              "│    │    └─M2M100EncoderLayer: 3-12                    12,596,224\n",
              "│    └─LayerNorm: 2-4                                   2,048\n",
              "├─Dropout: 1-2                                          --\n",
              "├─Linear: 1-3                                           3,075\n",
              "================================================================================\n",
              "Total params: 413,514,755\n",
              "Trainable params: 413,514,755\n",
              "Non-trainable params: 0\n",
              "================================================================================"
            ]
          },
          "metadata": {},
          "execution_count": 55
        }
      ]
    },
    {
      "cell_type": "code",
      "source": [
        "optimizer = AdamW([\n",
        "    {'params': modelFT.encoder.parameters(), 'lr': 1e-5},\n",
        "    {'params': modelFT.classifier.parameters(), 'lr': 5e-4},\n",
        "])\n",
        "loss_fn = nn.CrossEntropyLoss()"
      ],
      "metadata": {
        "id": "5iSPxjcYdtTE"
      },
      "execution_count": 56,
      "outputs": []
    },
    {
      "cell_type": "code",
      "execution_count": 92,
      "metadata": {
        "id": "HQI4OEcD415N"
      },
      "outputs": [],
      "source": [
        "optimizer = AdamW(modelFT.parameters(), lr=1e-5)\n",
        "loss_fn = nn.CrossEntropyLoss()"
      ]
    },
    {
      "cell_type": "code",
      "execution_count": 57,
      "metadata": {
        "id": "S3jhAW7q6CZp"
      },
      "outputs": [],
      "source": [
        "history = {\n",
        "        'train_loss':[],\n",
        "        'val_loss':[],\n",
        "        'train_acc':[],\n",
        "        'val_acc':[]\n",
        "    }"
      ]
    },
    {
      "cell_type": "code",
      "execution_count": 58,
      "metadata": {
        "colab": {
          "base_uri": "https://localhost:8080/"
        },
        "id": "8nYRQRiAvJBO",
        "outputId": "1e692cc1-88ff-45cb-95e9-186545d5ef32"
      },
      "outputs": [
        {
          "output_type": "stream",
          "name": "stderr",
          "text": []
        },
        {
          "output_type": "stream",
          "name": "stdout",
          "text": [
            "Epoch [1/10], Loss:0.7992, Validation Loss:0.6765, Accuracy:0.66, Validation Accuracy:0.72\n"
          ]
        },
        {
          "output_type": "stream",
          "name": "stderr",
          "text": []
        },
        {
          "output_type": "stream",
          "name": "stdout",
          "text": [
            "Epoch [2/10], Loss:0.4938, Validation Loss:0.5856, Accuracy:0.81, Validation Accuracy:0.78\n"
          ]
        },
        {
          "output_type": "stream",
          "name": "stderr",
          "text": []
        },
        {
          "output_type": "stream",
          "name": "stdout",
          "text": [
            "Epoch [3/10], Loss:0.3509, Validation Loss:0.5832, Accuracy:0.87, Validation Accuracy:0.78\n"
          ]
        },
        {
          "output_type": "stream",
          "name": "stderr",
          "text": []
        },
        {
          "output_type": "stream",
          "name": "stdout",
          "text": [
            "Epoch [4/10], Loss:0.2534, Validation Loss:0.6541, Accuracy:0.91, Validation Accuracy:0.79\n",
            "Early stopping counter: 1/3\n"
          ]
        },
        {
          "output_type": "stream",
          "name": "stderr",
          "text": []
        },
        {
          "output_type": "stream",
          "name": "stdout",
          "text": [
            "Epoch [5/10], Loss:0.1866, Validation Loss:0.6882, Accuracy:0.93, Validation Accuracy:0.79\n",
            "Early stopping counter: 2/3\n"
          ]
        },
        {
          "output_type": "stream",
          "name": "stderr",
          "text": [
            "                                                                        "
          ]
        },
        {
          "output_type": "stream",
          "name": "stdout",
          "text": [
            "Epoch [6/10], Loss:0.1372, Validation Loss:0.7813, Accuracy:0.95, Validation Accuracy:0.79\n",
            "Early stopping counter: 3/3\n",
            "Early stopping triggered at epoch 6\n"
          ]
        },
        {
          "output_type": "stream",
          "name": "stderr",
          "text": [
            "\r"
          ]
        }
      ],
      "source": [
        "epochs = 10\n",
        "patience = 3\n",
        "best_val_loss = float('inf')\n",
        "counter = 0\n",
        "\n",
        "for epoch in range(epochs):\n",
        "        modelFT.train()\n",
        "        total_train_loss = 0\n",
        "        correct_train = 0\n",
        "        total_train = 0\n",
        "\n",
        "        for batch in tqdm(train_dataloader, desc=f\"Epoch {epoch + 1}/{epochs} [Train]\", leave=False):\n",
        "            input_ids, attention_mask, labels = batch\n",
        "            input_ids = input_ids.to(device)\n",
        "            attention_mask = attention_mask.to(device)\n",
        "            labels = labels.to(device)\n",
        "\n",
        "            outputs = modelFT(input_ids, attention_mask)\n",
        "            loss = loss_fn(outputs, labels)\n",
        "\n",
        "            optimizer.zero_grad()\n",
        "            loss.backward()\n",
        "            optimizer.step()\n",
        "\n",
        "            total_train_loss += loss.item()\n",
        "            _, predicted = torch.max(outputs.data, 1)\n",
        "            total_train += labels.size(0)\n",
        "            correct_train += (predicted == labels).sum().item()\n",
        "\n",
        "        avg_train_loss = total_train_loss / len(train_dataloader)\n",
        "        train_accuracy = correct_train / total_train\n",
        "        history['train_loss'].append(avg_train_loss)\n",
        "        history['train_acc'].append(train_accuracy)\n",
        "\n",
        "        modelFT.eval()\n",
        "        total_val_loss = 0\n",
        "        correct_val = 0\n",
        "        total_val = 0\n",
        "\n",
        "        with torch.no_grad():\n",
        "            for batch in tqdm(val_dataloader, desc=f\"Epoch {epoch + 1}/{epochs} [Validation]\", leave=False):\n",
        "                input_ids, attention_mask, labels = batch\n",
        "                input_ids = input_ids.to(device)\n",
        "                attention_mask = attention_mask.to(device)\n",
        "                labels = labels.to(device)\n",
        "\n",
        "                outputs = modelFT(input_ids, attention_mask)\n",
        "                loss = loss_fn(outputs, labels)\n",
        "\n",
        "                total_val_loss += loss.item()\n",
        "                _, predicted = torch.max(outputs.data, 1)\n",
        "                total_val += labels.size(0)\n",
        "                correct_val += (predicted == labels).sum().item()\n",
        "\n",
        "        avg_val_loss = total_val_loss / len(val_dataloader)\n",
        "        val_accuracy = correct_val / total_val\n",
        "        history['val_loss'].append(avg_val_loss)\n",
        "        history['val_acc'].append(val_accuracy)\n",
        "\n",
        "        print(f\"Epoch [{epoch + 1}/{epochs}], Loss:{avg_train_loss:.4f}, Validation Loss:{avg_val_loss:.4f}, Accuracy:{train_accuracy:.2f}, Validation Accuracy:{val_accuracy:.2f}\")\n",
        "\n",
        "        if avg_val_loss < best_val_loss:\n",
        "            best_val_loss = avg_val_loss\n",
        "            counter = 0\n",
        "            torch.save(modelFT.state_dict(), 'best_model.pth')\n",
        "        else:\n",
        "            counter += 1\n",
        "            print(f\"Early stopping counter: {counter}/{patience}\")\n",
        "            if counter >= patience:\n",
        "                print(f\"Early stopping triggered at epoch {epoch + 1}\")\n",
        "                break"
      ]
    },
    {
      "cell_type": "markdown",
      "metadata": {
        "id": "Ctn7pwJdb-NM"
      },
      "source": [
        "#Evaluation"
      ]
    },
    {
      "cell_type": "code",
      "execution_count": 59,
      "metadata": {
        "id": "AknGPAp_YmO7"
      },
      "outputs": [],
      "source": [
        "def learning_curve(history, mode='loss'):\n",
        "  plt.figure()\n",
        "  if mode == 'loss':\n",
        "    plt.plot(history['train_loss'], label='Training Loss')\n",
        "    plt.plot(history['val_loss'], label='Validation Loss')\n",
        "    plt.xlabel('Epoch')\n",
        "    plt.ylabel('Loss')\n",
        "  elif mode == 'acc':\n",
        "    plt.plot(history['train_acc'], label='Training Accuracy')\n",
        "    plt.plot(history['val_acc'], label='Validation Accuracy')\n",
        "    plt.xlabel('Epoch')\n",
        "    plt.ylabel('Akurasi')\n",
        "  plt.title(f'Learning Curve: {mode}')\n",
        "  plt.legend()\n",
        "  plt.grid(True)\n",
        "  plt.show()"
      ]
    },
    {
      "cell_type": "code",
      "source": [
        "learning_curve(history, 'loss'), learning_curve(history, mode='acc')"
      ],
      "metadata": {
        "colab": {
          "base_uri": "https://localhost:8080/",
          "height": 945
        },
        "id": "Y30n2TBXzwe-",
        "outputId": "169b212a-afb2-4f32-e5af-6f460856cabb"
      },
      "execution_count": 60,
      "outputs": [
        {
          "output_type": "display_data",
          "data": {
            "text/plain": [
              "<Figure size 640x480 with 1 Axes>"
            ],
            "image/png": "[encoded data removed]"
          },
          "metadata": {}
        },
        {
          "output_type": "display_data",
          "data": {
            "text/plain": [
              "<Figure size 640x480 with 1 Axes>"
            ],
            "image/png": "[encoded data removed]"
          },
          "metadata": {}
        },
        {
          "output_type": "execute_result",
          "data": {
            "text/plain": [
              "(None, None)"
            ]
          },
          "metadata": {},
          "execution_count": 60
        }
      ]
    },
    {
      "cell_type": "code",
      "source": [
        "learning_curve(history, 'loss'), learning_curve(history, mode='acc')"
      ],
      "metadata": {
        "colab": {
          "base_uri": "https://localhost:8080/",
          "height": 945
        },
        "id": "ErU2MYriQYot",
        "outputId": "ed82533d-4d51-4598-a6dc-34423104fee7"
      },
      "execution_count": 52,
      "outputs": [
        {
          "output_type": "display_data",
          "data": {
            "text/plain": [
              "<Figure size 640x480 with 1 Axes>"
            ],
            "image/png": "[encoded data removed]"
          },
          "metadata": {}
        },
        {
          "output_type": "display_data",
          "data": {
            "text/plain": [
              "<Figure size 640x480 with 1 Axes>"
            ],
            "image/png": "[encoded data removed]"
          },
          "metadata": {}
        },
        {
          "output_type": "execute_result",
          "data": {
            "text/plain": [
              "(None, None)"
            ]
          },
          "metadata": {},
          "execution_count": 52
        }
      ]
    },
    {
      "cell_type": "code",
      "execution_count": 61,
      "metadata": {
        "id": "i6mCI8XJLIfl"
      },
      "outputs": [],
      "source": [
        "test_dataloader = preprocess(test, False)"
      ]
    },
    {
      "cell_type": "code",
      "source": [
        "modelFT.load_state_dict(torch.load('best_model.pth'))"
      ],
      "metadata": {
        "colab": {
          "base_uri": "https://localhost:8080/"
        },
        "id": "x6zK3hXC1cId",
        "outputId": "1ffdb8b2-289d-420e-c863-6efb5b837fe7"
      },
      "execution_count": 62,
      "outputs": [
        {
          "output_type": "execute_result",
          "data": {
            "text/plain": [
              "<All keys matched successfully>"
            ]
          },
          "metadata": {},
          "execution_count": 62
        }
      ]
    },
    {
      "cell_type": "code",
      "execution_count": 63,
      "metadata": {
        "id": "1YzIJc3WKwPe",
        "colab": {
          "base_uri": "https://localhost:8080/"
        },
        "outputId": "c7cb1334-78a0-4afe-8700-b9baa875f961"
      },
      "outputs": [
        {
          "output_type": "stream",
          "name": "stderr",
          "text": []
        }
      ],
      "source": [
        "modelFT.eval()\n",
        "all_preds = []\n",
        "all_labels = []\n",
        "\n",
        "with torch.no_grad():\n",
        "  for batch in tqdm(test_dataloader, desc=f\"[Testing]\", leave=False):\n",
        "    input_ids, attention_mask, labels = batch\n",
        "    input_ids = input_ids.to(device)\n",
        "    attention_mask = attention_mask.to(device)\n",
        "    labels = labels.to(device)\n",
        "\n",
        "    outputs = modelFT(input_ids, attention_mask)\n",
        "    _, predicted = torch.max(outputs.data, 1)\n",
        "\n",
        "    all_preds.extend(predicted.cpu().numpy())\n",
        "    all_labels.extend(labels.cpu().numpy())"
      ]
    },
    {
      "cell_type": "code",
      "source": [
        "print(classification_report(all_labels, all_preds))"
      ],
      "metadata": {
        "colab": {
          "base_uri": "https://localhost:8080/"
        },
        "id": "YsPY6o029pfQ",
        "outputId": "7cb5900d-36b3-40b5-db2c-5e7e4b754b49"
      },
      "execution_count": 32,
      "outputs": [
        {
          "output_type": "stream",
          "name": "stdout",
          "text": [
            "              precision    recall  f1-score   support\n",
            "\n",
            "           0       0.80      0.78      0.79      1836\n",
            "           1       0.77      0.73      0.75      1152\n",
            "           2       0.83      0.88      0.85      1812\n",
            "\n",
            "    accuracy                           0.81      4800\n",
            "   macro avg       0.80      0.80      0.80      4800\n",
            "weighted avg       0.80      0.81      0.80      4800\n",
            "\n"
          ]
        }
      ]
    },
    {
      "cell_type": "code",
      "source": [
        "print(classification_report(all_labels, all_preds))"
      ],
      "metadata": {
        "colab": {
          "base_uri": "https://localhost:8080/"
        },
        "id": "gye-3kLRp9Hd",
        "outputId": "8666a1d3-c0df-4d95-cf33-a8fd8edc3cc5"
      },
      "execution_count": 64,
      "outputs": [
        {
          "output_type": "stream",
          "name": "stdout",
          "text": [
            "              precision    recall  f1-score   support\n",
            "\n",
            "           0       0.79      0.81      0.80      1836\n",
            "           1       0.78      0.75      0.77      1152\n",
            "           2       0.86      0.86      0.86      1812\n",
            "\n",
            "    accuracy                           0.81      4800\n",
            "   macro avg       0.81      0.81      0.81      4800\n",
            "weighted avg       0.81      0.81      0.81      4800\n",
            "\n"
          ]
        }
      ]
    },
    {
      "cell_type": "markdown",
      "metadata": {
        "id": "O57TOOlXkwR1"
      },
      "source": [
        "#test untuk tiap bahasa"
      ]
    },
    {
      "cell_type": "code",
      "execution_count": 65,
      "metadata": {
        "id": "SYKtf_MVjNdr"
      },
      "outputs": [],
      "source": [
        "test = pd.read_csv('/content/drive/MyDrive/Final_Year/data_test.csv')"
      ]
    },
    {
      "cell_type": "code",
      "execution_count": 66,
      "metadata": {
        "id": "r2hFT1POO2vR"
      },
      "outputs": [],
      "source": [
        "test_ing = test[test.bahasa == 'aceh']"
      ]
    },
    {
      "cell_type": "code",
      "source": [
        "test_ing[\"label\"] = test_ing[\"label\"].map(label_map)"
      ],
      "metadata": {
        "colab": {
          "base_uri": "https://localhost:8080/"
        },
        "id": "To-f2c7DZwrR",
        "outputId": "8020a93a-38ec-4891-8bb2-fa4773517e38"
      },
      "execution_count": 67,
      "outputs": [
        {
          "output_type": "stream",
          "name": "stderr",
          "text": [
            "/tmp/ipython-input-3589811783.py:1: SettingWithCopyWarning: \n",
            "A value is trying to be set on a copy of a slice from a DataFrame.\n",
            "Try using .loc[row_indexer,col_indexer] = value instead\n",
            "\n",
            "See the caveats in the documentation: https://pandas.pydata.org/pandas-docs/stable/user_guide/indexing.html#returning-a-view-versus-a-copy\n",
            "  test_ing[\"label\"] = test_ing[\"label\"].map(label_map)\n"
          ]
        }
      ]
    },
    {
      "cell_type": "code",
      "execution_count": 68,
      "metadata": {
        "colab": {
          "base_uri": "https://localhost:8080/",
          "height": 423
        },
        "id": "fpH_7izXU_AQ",
        "outputId": "b031d2b9-366b-4a2a-9e86-cc79e2332c0b"
      },
      "outputs": [
        {
          "output_type": "execute_result",
          "data": {
            "text/plain": [
              "                                                  text  label bahasa\n",
              "0    Toe ngon hotel lon dom, jak ngon tapak, disino...      2   aceh\n",
              "1                 Nyo beutoi, jih teungoh jaga warong.      1   aceh\n",
              "2    On rumpunjih lumayan tapi bieng saos padang cu...      0   aceh\n",
              "3    Meuteumpat di braga city walk nyang saboh geud...      2   aceh\n",
              "4    Gianjar teurimong bantuan sosial dua ribe lapa...      1   aceh\n",
              "..                                                 ...    ...    ...\n",
              "395  Lon ka bit kayem pajoh bu di Rumoh Nenek. Lon ...      2   aceh\n",
              "396  Le ureueng hana galak jak meuubat bak doto. Pe...      0   aceh\n",
              "397  Pelayanan get, teumpat peudong moto/honda pih ...      2   aceh\n",
              "398                        Tes cpns punca macet, paloe      0   aceh\n",
              "399  Bak tapreh makanan leupah trep, awak kereuja l...      0   aceh\n",
              "\n",
              "[400 rows x 3 columns]"
            ],
            "text/html": [
              "\n",
              "  <div id=\"df-9415d86b-b905-4ed3-b5d3-a5ae89707853\" class=\"colab-df-container\">\n",
              "    <div>\n",
              "<style scoped>\n",
              "    .dataframe tbody tr th:only-of-type {\n",
              "        vertical-align: middle;\n",
              "    }\n",
              "\n",
              "    .dataframe tbody tr th {\n",
              "        vertical-align: top;\n",
              "    }\n",
              "\n",
              "    .dataframe thead th {\n",
              "        text-align: right;\n",
              "    }\n",
              "</style>\n",
              "<table border=\"1\" class=\"dataframe\">\n",
              "  <thead>\n",
              "    <tr style=\"text-align: right;\">\n",
              "      <th></th>\n",
              "      <th>text</th>\n",
              "      <th>label</th>\n",
              "      <th>bahasa</th>\n",
              "    </tr>\n",
              "  </thead>\n",
              "  <tbody>\n",
              "    <tr>\n",
              "      <th>0</th>\n",
              "      <td>Toe ngon hotel lon dom, jak ngon tapak, disino...</td>\n",
              "      <td>2</td>\n",
              "      <td>aceh</td>\n",
              "    </tr>\n",
              "    <tr>\n",
              "      <th>1</th>\n",
              "      <td>Nyo beutoi, jih teungoh jaga warong.</td>\n",
              "      <td>1</td>\n",
              "      <td>aceh</td>\n",
              "    </tr>\n",
              "    <tr>\n",
              "      <th>2</th>\n",
              "      <td>On rumpunjih lumayan tapi bieng saos padang cu...</td>\n",
              "      <td>0</td>\n",
              "      <td>aceh</td>\n",
              "    </tr>\n",
              "    <tr>\n",
              "      <th>3</th>\n",
              "      <td>Meuteumpat di braga city walk nyang saboh geud...</td>\n",
              "      <td>2</td>\n",
              "      <td>aceh</td>\n",
              "    </tr>\n",
              "    <tr>\n",
              "      <th>4</th>\n",
              "      <td>Gianjar teurimong bantuan sosial dua ribe lapa...</td>\n",
              "      <td>1</td>\n",
              "      <td>aceh</td>\n",
              "    </tr>\n",
              "    <tr>\n",
              "      <th>...</th>\n",
              "      <td>...</td>\n",
              "      <td>...</td>\n",
              "      <td>...</td>\n",
              "    </tr>\n",
              "    <tr>\n",
              "      <th>395</th>\n",
              "      <td>Lon ka bit kayem pajoh bu di Rumoh Nenek. Lon ...</td>\n",
              "      <td>2</td>\n",
              "      <td>aceh</td>\n",
              "    </tr>\n",
              "    <tr>\n",
              "      <th>396</th>\n",
              "      <td>Le ureueng hana galak jak meuubat bak doto. Pe...</td>\n",
              "      <td>0</td>\n",
              "      <td>aceh</td>\n",
              "    </tr>\n",
              "    <tr>\n",
              "      <th>397</th>\n",
              "      <td>Pelayanan get, teumpat peudong moto/honda pih ...</td>\n",
              "      <td>2</td>\n",
              "      <td>aceh</td>\n",
              "    </tr>\n",
              "    <tr>\n",
              "      <th>398</th>\n",
              "      <td>Tes cpns punca macet, paloe</td>\n",
              "      <td>0</td>\n",
              "      <td>aceh</td>\n",
              "    </tr>\n",
              "    <tr>\n",
              "      <th>399</th>\n",
              "      <td>Bak tapreh makanan leupah trep, awak kereuja l...</td>\n",
              "      <td>0</td>\n",
              "      <td>aceh</td>\n",
              "    </tr>\n",
              "  </tbody>\n",
              "</table>\n",
              "<p>400 rows × 3 columns</p>\n",
              "</div>\n",
              "    <div class=\"colab-df-buttons\">\n",
              "\n",
              "  <div class=\"colab-df-container\">\n",
              "    <button class=\"colab-df-convert\" onclick=\"convertToInteractive('df-9415d86b-b905-4ed3-b5d3-a5ae89707853')\"\n",
              "            title=\"Convert this dataframe to an interactive table.\"\n",
              "            style=\"display:none;\">\n",
              "\n",
              "  <svg xmlns=\"http://www.w3.org/2000/svg\" height=\"24px\" viewBox=\"0 -960 960 960\">\n",
              "    <path d=\"M120-120v-720h720v720H120Zm60-500h600v-160H180v160Zm220 220h160v-160H400v160Zm0 220h160v-160H400v160ZM180-400h160v-160H180v160Zm440 0h160v-160H620v160ZM180-180h160v-160H180v160Zm440 0h160v-160H620v160Z\"/>\n",
              "  </svg>\n",
              "    </button>\n",
              "\n",
              "  <style>\n",
              "    .colab-df-container {\n",
              "      display:flex;\n",
              "      gap: 12px;\n",
              "    }\n",
              "\n",
              "    .colab-df-convert {\n",
              "      background-color: #E8F0FE;\n",
              "      border: none;\n",
              "      border-radius: 50%;\n",
              "      cursor: pointer;\n",
              "      display: none;\n",
              "      fill: #1967D2;\n",
              "      height: 32px;\n",
              "      padding: 0 0 0 0;\n",
              "      width: 32px;\n",
              "    }\n",
              "\n",
              "    .colab-df-convert:hover {\n",
              "      background-color: #E2EBFA;\n",
              "      box-shadow: 0px 1px 2px rgba(60, 64, 67, 0.3), 0px 1px 3px 1px rgba(60, 64, 67, 0.15);\n",
              "      fill: #174EA6;\n",
              "    }\n",
              "\n",
              "    .colab-df-buttons div {\n",
              "      margin-bottom: 4px;\n",
              "    }\n",
              "\n",
              "    [theme=dark] .colab-df-convert {\n",
              "      background-color: #3B4455;\n",
              "      fill: #D2E3FC;\n",
              "    }\n",
              "\n",
              "    [theme=dark] .colab-df-convert:hover {\n",
              "      background-color: #434B5C;\n",
              "      box-shadow: 0px 1px 3px 1px rgba(0, 0, 0, 0.15);\n",
              "      filter: drop-shadow(0px 1px 2px rgba(0, 0, 0, 0.3));\n",
              "      fill: #FFFFFF;\n",
              "    }\n",
              "  </style>\n",
              "\n",
              "    <script>\n",
              "      const buttonEl =\n",
              "        document.querySelector('#df-9415d86b-b905-4ed3-b5d3-a5ae89707853 button.colab-df-convert');\n",
              "      buttonEl.style.display =\n",
              "        google.colab.kernel.accessAllowed ? 'block' : 'none';\n",
              "\n",
              "      async function convertToInteractive(key) {\n",
              "        const element = document.querySelector('#df-9415d86b-b905-4ed3-b5d3-a5ae89707853');\n",
              "        const dataTable =\n",
              "          await google.colab.kernel.invokeFunction('convertToInteractive',\n",
              "                                                    [key], {});\n",
              "        if (!dataTable) return;\n",
              "\n",
              "        const docLinkHtml = 'Like what you see? Visit the ' +\n",
              "          '<a target=\"_blank\" href=https://colab.research.google.com/notebooks/data_table.ipynb>data table notebook</a>'\n",
              "          + ' to learn more about interactive tables.';\n",
              "        element.innerHTML = '';\n",
              "        dataTable['output_type'] = 'display_data';\n",
              "        await google.colab.output.renderOutput(dataTable, element);\n",
              "        const docLink = document.createElement('div');\n",
              "        docLink.innerHTML = docLinkHtml;\n",
              "        element.appendChild(docLink);\n",
              "      }\n",
              "    </script>\n",
              "  </div>\n",
              "\n",
              "\n",
              "    <div id=\"df-a557b2d1-b562-4f4a-9458-b80600a39dec\">\n",
              "      <button class=\"colab-df-quickchart\" onclick=\"quickchart('df-a557b2d1-b562-4f4a-9458-b80600a39dec')\"\n",
              "                title=\"Suggest charts\"\n",
              "                style=\"display:none;\">\n",
              "\n",
              "<svg xmlns=\"http://www.w3.org/2000/svg\" height=\"24px\"viewBox=\"0 0 24 24\"\n",
              "     width=\"24px\">\n",
              "    <g>\n",
              "        <path d=\"M19 3H5c-1.1 0-2 .9-2 2v14c0 1.1.9 2 2 2h14c1.1 0 2-.9 2-2V5c0-1.1-.9-2-2-2zM9 17H7v-7h2v7zm4 0h-2V7h2v10zm4 0h-2v-4h2v4z\"/>\n",
              "    </g>\n",
              "</svg>\n",
              "      </button>\n",
              "\n",
              "<style>\n",
              "  .colab-df-quickchart {\n",
              "      --bg-color: #E8F0FE;\n",
              "      --fill-color: #1967D2;\n",
              "      --hover-bg-color: #E2EBFA;\n",
              "      --hover-fill-color: #174EA6;\n",
              "      --disabled-fill-color: #AAA;\n",
              "      --disabled-bg-color: #DDD;\n",
              "  }\n",
              "\n",
              "  [theme=dark] .colab-df-quickchart {\n",
              "      --bg-color: #3B4455;\n",
              "      --fill-color: #D2E3FC;\n",
              "      --hover-bg-color: #434B5C;\n",
              "      --hover-fill-color: #FFFFFF;\n",
              "      --disabled-bg-color: #3B4455;\n",
              "      --disabled-fill-color: #666;\n",
              "  }\n",
              "\n",
              "  .colab-df-quickchart {\n",
              "    background-color: var(--bg-color);\n",
              "    border: none;\n",
              "    border-radius: 50%;\n",
              "    cursor: pointer;\n",
              "    display: none;\n",
              "    fill: var(--fill-color);\n",
              "    height: 32px;\n",
              "    padding: 0;\n",
              "    width: 32px;\n",
              "  }\n",
              "\n",
              "  .colab-df-quickchart:hover {\n",
              "    background-color: var(--hover-bg-color);\n",
              "    box-shadow: 0 1px 2px rgba(60, 64, 67, 0.3), 0 1px 3px 1px rgba(60, 64, 67, 0.15);\n",
              "    fill: var(--button-hover-fill-color);\n",
              "  }\n",
              "\n",
              "  .colab-df-quickchart-complete:disabled,\n",
              "  .colab-df-quickchart-complete:disabled:hover {\n",
              "    background-color: var(--disabled-bg-color);\n",
              "    fill: var(--disabled-fill-color);\n",
              "    box-shadow: none;\n",
              "  }\n",
              "\n",
              "  .colab-df-spinner {\n",
              "    border: 2px solid var(--fill-color);\n",
              "    border-color: transparent;\n",
              "    border-bottom-color: var(--fill-color);\n",
              "    animation:\n",
              "      spin 1s steps(1) infinite;\n",
              "  }\n",
              "\n",
              "  @keyframes spin {\n",
              "    0% {\n",
              "      border-color: transparent;\n",
              "      border-bottom-color: var(--fill-color);\n",
              "      border-left-color: var(--fill-color);\n",
              "    }\n",
              "    20% {\n",
              "      border-color: transparent;\n",
              "      border-left-color: var(--fill-color);\n",
              "      border-top-color: var(--fill-color);\n",
              "    }\n",
              "    30% {\n",
              "      border-color: transparent;\n",
              "      border-left-color: var(--fill-color);\n",
              "      border-top-color: var(--fill-color);\n",
              "      border-right-color: var(--fill-color);\n",
              "    }\n",
              "    40% {\n",
              "      border-color: transparent;\n",
              "      border-right-color: var(--fill-color);\n",
              "      border-top-color: var(--fill-color);\n",
              "    }\n",
              "    60% {\n",
              "      border-color: transparent;\n",
              "      border-right-color: var(--fill-color);\n",
              "    }\n",
              "    80% {\n",
              "      border-color: transparent;\n",
              "      border-right-color: var(--fill-color);\n",
              "      border-bottom-color: var(--fill-color);\n",
              "    }\n",
              "    90% {\n",
              "      border-color: transparent;\n",
              "      border-bottom-color: var(--fill-color);\n",
              "    }\n",
              "  }\n",
              "</style>\n",
              "\n",
              "      <script>\n",
              "        async function quickchart(key) {\n",
              "          const quickchartButtonEl =\n",
              "            document.querySelector('#' + key + ' button');\n",
              "          quickchartButtonEl.disabled = true;  // To prevent multiple clicks.\n",
              "          quickchartButtonEl.classList.add('colab-df-spinner');\n",
              "          try {\n",
              "            const charts = await google.colab.kernel.invokeFunction(\n",
              "                'suggestCharts', [key], {});\n",
              "          } catch (error) {\n",
              "            console.error('Error during call to suggestCharts:', error);\n",
              "          }\n",
              "          quickchartButtonEl.classList.remove('colab-df-spinner');\n",
              "          quickchartButtonEl.classList.add('colab-df-quickchart-complete');\n",
              "        }\n",
              "        (() => {\n",
              "          let quickchartButtonEl =\n",
              "            document.querySelector('#df-a557b2d1-b562-4f4a-9458-b80600a39dec button');\n",
              "          quickchartButtonEl.style.display =\n",
              "            google.colab.kernel.accessAllowed ? 'block' : 'none';\n",
              "        })();\n",
              "      </script>\n",
              "    </div>\n",
              "\n",
              "  <div id=\"id_d0c5eccd-8568-46a3-872e-82271031c7f7\">\n",
              "    <style>\n",
              "      .colab-df-generate {\n",
              "        background-color: #E8F0FE;\n",
              "        border: none;\n",
              "        border-radius: 50%;\n",
              "        cursor: pointer;\n",
              "        display: none;\n",
              "        fill: #1967D2;\n",
              "        height: 32px;\n",
              "        padding: 0 0 0 0;\n",
              "        width: 32px;\n",
              "      }\n",
              "\n",
              "      .colab-df-generate:hover {\n",
              "        background-color: #E2EBFA;\n",
              "        box-shadow: 0px 1px 2px rgba(60, 64, 67, 0.3), 0px 1px 3px 1px rgba(60, 64, 67, 0.15);\n",
              "        fill: #174EA6;\n",
              "      }\n",
              "\n",
              "      [theme=dark] .colab-df-generate {\n",
              "        background-color: #3B4455;\n",
              "        fill: #D2E3FC;\n",
              "      }\n",
              "\n",
              "      [theme=dark] .colab-df-generate:hover {\n",
              "        background-color: #434B5C;\n",
              "        box-shadow: 0px 1px 3px 1px rgba(0, 0, 0, 0.15);\n",
              "        filter: drop-shadow(0px 1px 2px rgba(0, 0, 0, 0.3));\n",
              "        fill: #FFFFFF;\n",
              "      }\n",
              "    </style>\n",
              "    <button class=\"colab-df-generate\" onclick=\"generateWithVariable('test_ing')\"\n",
              "            title=\"Generate code using this dataframe.\"\n",
              "            style=\"display:none;\">\n",
              "\n",
              "  <svg xmlns=\"http://www.w3.org/2000/svg\" height=\"24px\"viewBox=\"0 0 24 24\"\n",
              "       width=\"24px\">\n",
              "    <path d=\"M7,19H8.4L18.45,9,17,7.55,7,17.6ZM5,21V16.75L18.45,3.32a2,2,0,0,1,2.83,0l1.4,1.43a1.91,1.91,0,0,1,.58,1.4,1.91,1.91,0,0,1-.58,1.4L9.25,21ZM18.45,9,17,7.55Zm-12,3A5.31,5.31,0,0,0,4.9,8.1,5.31,5.31,0,0,0,1,6.5,5.31,5.31,0,0,0,4.9,4.9,5.31,5.31,0,0,0,6.5,1,5.31,5.31,0,0,0,8.1,4.9,5.31,5.31,0,0,0,12,6.5,5.46,5.46,0,0,0,6.5,12Z\"/>\n",
              "  </svg>\n",
              "    </button>\n",
              "    <script>\n",
              "      (() => {\n",
              "      const buttonEl =\n",
              "        document.querySelector('#id_d0c5eccd-8568-46a3-872e-82271031c7f7 button.colab-df-generate');\n",
              "      buttonEl.style.display =\n",
              "        google.colab.kernel.accessAllowed ? 'block' : 'none';\n",
              "\n",
              "      buttonEl.onclick = () => {\n",
              "        google.colab.notebook.generateWithVariable('test_ing');\n",
              "      }\n",
              "      })();\n",
              "    </script>\n",
              "  </div>\n",
              "\n",
              "    </div>\n",
              "  </div>\n"
            ],
            "application/vnd.google.colaboratory.intrinsic+json": {
              "type": "dataframe",
              "variable_name": "test_ing",
              "summary": "{\n  \"name\": \"test_ing\",\n  \"rows\": 400,\n  \"fields\": [\n    {\n      \"column\": \"text\",\n      \"properties\": {\n        \"dtype\": \"string\",\n        \"num_unique_values\": 400,\n        \"samples\": [\n          \"Untuk jak u tempat nyoe jalan jih brat macet dan jioh dari pusat kota. Troh keudeh hana hai nyang istimewa nyang peuget perjalanan jioh bunoe sibandeng. Menujih biasa mantong.\",\n          \"Lon kumulai useuha dan hana yo hana meuhase\",\n          \"Seb mudah tamita lokasi nyoe, tinggai seutot mantong arah u kota. Euntreuk blah wie jalan deuh teumpat parkir moto nyang le, disinankeuh teumpat kafe nyoe. Bak sang kafe nyoe jareueng seungue, le that ureueng jak.\"\n        ],\n        \"semantic_type\": \"\",\n        \"description\": \"\"\n      }\n    },\n    {\n      \"column\": \"label\",\n      \"properties\": {\n        \"dtype\": \"number\",\n        \"std\": 0,\n        \"min\": 0,\n        \"max\": 2,\n        \"num_unique_values\": 3,\n        \"samples\": [\n          2,\n          1,\n          0\n        ],\n        \"semantic_type\": \"\",\n        \"description\": \"\"\n      }\n    },\n    {\n      \"column\": \"bahasa\",\n      \"properties\": {\n        \"dtype\": \"category\",\n        \"num_unique_values\": 1,\n        \"samples\": [\n          \"aceh\"\n        ],\n        \"semantic_type\": \"\",\n        \"description\": \"\"\n      }\n    }\n  ]\n}"
            }
          },
          "metadata": {},
          "execution_count": 68
        }
      ],
      "source": [
        "test_ing"
      ]
    },
    {
      "cell_type": "code",
      "execution_count": 69,
      "metadata": {
        "id": "-t0g-YflUMBK"
      },
      "outputs": [],
      "source": [
        "test_ing_dataloader = preprocess(test_ing, False)"
      ]
    },
    {
      "cell_type": "code",
      "execution_count": 70,
      "metadata": {
        "id": "IXZDOosiUBgK",
        "colab": {
          "base_uri": "https://localhost:8080/"
        },
        "outputId": "9f3c89eb-1320-4159-c886-999cc770332f"
      },
      "outputs": [
        {
          "output_type": "stream",
          "name": "stderr",
          "text": []
        }
      ],
      "source": [
        "modelFT.eval()\n",
        "all_preds = []\n",
        "all_labels = []\n",
        "\n",
        "with torch.no_grad():\n",
        "  for batch in tqdm(test_ing_dataloader, desc=f\"[Testing]\", leave=False):\n",
        "    input_ids, attention_mask, labels = batch\n",
        "    input_ids = input_ids.to(device)\n",
        "    attention_mask = attention_mask.to(device)\n",
        "    labels = labels.to(device)\n",
        "\n",
        "    outputs = modelFT(input_ids, attention_mask)\n",
        "    _, predicted = torch.max(outputs.data, 1)\n",
        "\n",
        "    all_preds.extend(predicted.cpu().numpy())\n",
        "    all_labels.extend(labels.cpu().numpy())"
      ]
    },
    {
      "cell_type": "code",
      "source": [
        "print(classification_report(all_labels, all_preds))"
      ],
      "metadata": {
        "colab": {
          "base_uri": "https://localhost:8080/"
        },
        "id": "Yv4P9xpB-JLI",
        "outputId": "b4d0b32b-fb42-456f-df36-c105b3b6265b"
      },
      "execution_count": 40,
      "outputs": [
        {
          "output_type": "stream",
          "name": "stdout",
          "text": [
            "              precision    recall  f1-score   support\n",
            "\n",
            "           0       0.78      0.78      0.78       153\n",
            "           1       0.80      0.73      0.76        96\n",
            "           2       0.82      0.87      0.85       151\n",
            "\n",
            "    accuracy                           0.80       400\n",
            "   macro avg       0.80      0.79      0.80       400\n",
            "weighted avg       0.80      0.80      0.80       400\n",
            "\n"
          ]
        }
      ]
    },
    {
      "cell_type": "code",
      "source": [
        "print(classification_report(all_labels, all_preds))"
      ],
      "metadata": {
        "colab": {
          "base_uri": "https://localhost:8080/"
        },
        "id": "SVZSeUb117ST",
        "outputId": "28d29abf-d8e2-4e62-d407-7293a81aa035"
      },
      "execution_count": 71,
      "outputs": [
        {
          "output_type": "stream",
          "name": "stdout",
          "text": [
            "              precision    recall  f1-score   support\n",
            "\n",
            "           0       0.80      0.84      0.82       153\n",
            "           1       0.82      0.78      0.80        96\n",
            "           2       0.85      0.83      0.84       151\n",
            "\n",
            "    accuracy                           0.82       400\n",
            "   macro avg       0.82      0.82      0.82       400\n",
            "weighted avg       0.82      0.82      0.82       400\n",
            "\n"
          ]
        }
      ]
    },
    {
      "cell_type": "code",
      "execution_count": null,
      "metadata": {
        "id": "ntHM8ZKTniow"
      },
      "outputs": [],
      "source": []
    }
  ],
  "metadata": {
    "accelerator": "GPU",
    "colab": {
      "gpuType": "T4",
      "provenance": [],
      "collapsed_sections": [
        "xsjjyeGOsUS7"
      ],
      "mount_file_id": "15GikkT8rJhjWdHSVjfidm1l0Oa_OfnWL",
      "authorship_tag": "ABX9TyOXx1JhfpCvaUCbGQ8J1Lyj",
      "include_colab_link": true
    },
    "kernelspec": {
      "display_name": "Python 3",
      "name": "python3"
    },
    "language_info": {
      "name": "python"
    }
  },
  "nbformat": 4,
  "nbformat_minor": 0
}