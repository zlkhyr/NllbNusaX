{
  "nbformat": 4,
  "nbformat_minor": 0,
  "metadata": {
    "colab": {
      "provenance": [],
      "mount_file_id": "14vxOKQGHCzHJuLCw-8vdgthJ_Rjh1KY6",
      "authorship_tag": "ABX9TyMQ7dRsefOqhn8D1MWyBgRn",
      "include_colab_link": true
    },
    "kernelspec": {
      "name": "python3",
      "display_name": "Python 3"
    },
    "language_info": {
      "name": "python"
    },
    "widgets": {
      "application/vnd.jupyter.widget-state+json": {
        "8003120793324ab38410a52078074c0f": {
          "model_module": "@jupyter-widgets/controls",
          "model_name": "HBoxModel",
          "model_module_version": "1.5.0",
          "state": {
            "_dom_classes": [],
            "_model_module": "@jupyter-widgets/controls",
            "_model_module_version": "1.5.0",
            "_model_name": "HBoxModel",
            "_view_count": null,
            "_view_module": "@jupyter-widgets/controls",
            "_view_module_version": "1.5.0",
            "_view_name": "HBoxView",
            "box_style": "",
            "children": [
              "IPY_MODEL_96f1f110b8484d9eb2bfd6b886f85de4",
              "IPY_MODEL_3dc7b3beaaea4abb8fa5bf591b240e11",
              "IPY_MODEL_f94ddf03f6f542fd8791f7b0a8baccf6"
            ],
            "layout": "IPY_MODEL_443f19b54ec94642a85f362199fd861d"
          }
        },
        "c5adbceba18c408dad844b1343cdcb64": {
          "model_module": "@jupyter-widgets/controls",
          "model_name": "HBoxModel",
          "model_module_version": "1.5.0",
          "state": {
            "_dom_classes": [],
            "_model_module": "@jupyter-widgets/controls",
            "_model_module_version": "1.5.0",
            "_model_name": "HBoxModel",
            "_view_count": null,
            "_view_module": "@jupyter-widgets/controls",
            "_view_module_version": "1.5.0",
            "_view_name": "HBoxView",
            "box_style": "",
            "children": [
              "IPY_MODEL_ad27bd80a4da4facac0a6967d98acb2f",
              "IPY_MODEL_fbe82e17c6444762b18e77e14dadb68b",
              "IPY_MODEL_ea0e80e79aa04cafa910d957d01e6df2"
            ],
            "layout": "IPY_MODEL_7e307d6b440242008dadd71f7f4bbaf4"
          }
        },
        "1ed250dc144045ee8199f1eb1ad08d59": {
          "model_module": "@jupyter-widgets/controls",
          "model_name": "HBoxModel",
          "model_module_version": "1.5.0",
          "state": {
            "_dom_classes": [],
            "_model_module": "@jupyter-widgets/controls",
            "_model_module_version": "1.5.0",
            "_model_name": "HBoxModel",
            "_view_count": null,
            "_view_module": "@jupyter-widgets/controls",
            "_view_module_version": "1.5.0",
            "_view_name": "HBoxView",
            "box_style": "",
            "children": [
              "IPY_MODEL_d88f12aa3c9c4dc2ae08782fc54f6bd8",
              "IPY_MODEL_502918dd25204741afec5d9fc64e7554",
              "IPY_MODEL_418f4ebf4f97468abe88c47a0e30badb"
            ],
            "layout": "IPY_MODEL_006b8d922aef4dccbb3f3211c24a6a95"
          }
        },
        "730f15a1a80a409d8482ff2d26dba205": {
          "model_module": "@jupyter-widgets/controls",
          "model_name": "HBoxModel",
          "model_module_version": "1.5.0",
          "state": {
            "_dom_classes": [],
            "_model_module": "@jupyter-widgets/controls",
            "_model_module_version": "1.5.0",
            "_model_name": "HBoxModel",
            "_view_count": null,
            "_view_module": "@jupyter-widgets/controls",
            "_view_module_version": "1.5.0",
            "_view_name": "HBoxView",
            "box_style": "",
            "children": [
              "IPY_MODEL_db3bf5af361f44ffa9860073395cbeaa",
              "IPY_MODEL_aa04797d1dcc400596a4717e46230fe8",
              "IPY_MODEL_000a44351d16487b9affae40a64846b6"
            ],
            "layout": "IPY_MODEL_8242e7af26914783baacdb743fb728d5"
          }
        }
      }
    }
  },
  "cells": [
    {
      "cell_type": "markdown",
      "metadata": {
        "id": "view-in-github",
        "colab_type": "text"
      },
      "source": [
        "<a href=\"https://colab.research.google.com/github/zlkhyr/NllbNusaX/blob/main/NusaX.ipynb\" target=\"_parent\"><img src=\"https://colab.research.google.com/assets/colab-badge.svg\" alt=\"Open In Colab\"/></a>"
      ]
    },
    {
      "cell_type": "code",
      "source": [
        "import pandas as pd"
      ],
      "metadata": {
        "id": "Vn0OGHQdJi00"
      },
      "execution_count": null,
      "outputs": []
    },
    {
      "cell_type": "code",
      "source": [
        "!git clone https://github.com/IndoNLP/nusax.git"
      ],
      "metadata": {
        "colab": {
          "base_uri": "https://localhost:8080/"
        },
        "id": "OzYz5Ga1JBhd",
        "outputId": "4684cc18-df55-4b6f-800d-2057de2fd8a4"
      },
      "execution_count": null,
      "outputs": [
        {
          "output_type": "stream",
          "name": "stdout",
          "text": [
            "Cloning into 'nusax'...\n",
            "remote: Enumerating objects: 301, done.\u001b[K\n",
            "remote: Counting objects: 100% (5/5), done.\u001b[K\n",
            "remote: Compressing objects: 100% (3/3), done.\u001b[K\n",
            "remote: Total 301 (delta 4), reused 2 (delta 2), pack-reused 296 (from 1)\u001b[K\n",
            "Receiving objects: 100% (301/301), 3.74 MiB | 2.41 MiB/s, done.\n",
            "Resolving deltas: 100% (136/136), done.\n"
          ]
        }
      ]
    },
    {
      "cell_type": "code",
      "source": [
        "ace_train = pd.read_csv('nusax/datasets/sentiment/acehnese/train.csv')\n",
        "bjr_train = pd.read_csv('nusax/datasets/sentiment/banjarese/train.csv')\n",
        "bali_train = pd.read_csv('nusax/datasets/sentiment/balinese/train.csv')\n",
        "bugi_train = pd.read_csv('nusax/datasets/sentiment/buginese/train.csv')\n",
        "minang_train = pd.read_csv('nusax/datasets/sentiment/minangkabau/train.csv')\n",
        "jav_train = pd.read_csv('nusax/datasets/sentiment/javanese/train.csv')\n",
        "sun_train = pd.read_csv('nusax/datasets/sentiment/sundanese/train.csv')\n",
        "ind_train = pd.read_csv('nusax/datasets/sentiment/indonesian/train.csv')\n",
        "eng_train = pd.read_csv('nusax/datasets/sentiment/english/train.csv')\n",
        "\n",
        "mad_train = pd.read_csv('nusax/datasets/sentiment/madurese/train.csv')\n",
        "nga_train = pd.read_csv('nusax/datasets/sentiment/ngaju/train.csv')\n",
        "bat_train = pd.read_csv('nusax/datasets/sentiment/toba_batak/train.csv')"
      ],
      "metadata": {
        "id": "FCAKN-tNJaDS"
      },
      "execution_count": null,
      "outputs": []
    },
    {
      "cell_type": "code",
      "source": [
        "ace_train['bahasa'] = 'aceh'\n",
        "bjr_train['bahasa'] = 'banjar'\n",
        "bali_train['bahasa'] = 'bali'\n",
        "bugi_train['bahasa'] = 'bugis'\n",
        "minang_train['bahasa'] = 'minang'\n",
        "jav_train['bahasa'] = 'jawa'\n",
        "sun_train['bahasa'] = 'sunda'\n",
        "ind_train['bahasa'] = 'indonesia'\n",
        "eng_train['bahasa'] = 'inggris'\n",
        "\n",
        "mad_train['bahasa'] = 'madura'\n",
        "nga_train['bahasa'] = 'ngaju'\n",
        "bat_train['bahasa'] = 'batak toba'"
      ],
      "metadata": {
        "id": "jijg4BbgPjH_"
      },
      "execution_count": null,
      "outputs": []
    },
    {
      "cell_type": "code",
      "source": [
        "ace_val = pd.read_csv('nusax/datasets/sentiment/acehnese/valid.csv')\n",
        "bjr_val = pd.read_csv('nusax/datasets/sentiment/banjarese/valid.csv')\n",
        "bali_val = pd.read_csv('nusax/datasets/sentiment/balinese/valid.csv')\n",
        "bugi_val = pd.read_csv('nusax/datasets/sentiment/buginese/valid.csv')\n",
        "minang_val = pd.read_csv('nusax/datasets/sentiment/minangkabau/valid.csv')\n",
        "jav_val = pd.read_csv('nusax/datasets/sentiment/javanese/valid.csv')\n",
        "sun_val = pd.read_csv('nusax/datasets/sentiment/sundanese/valid.csv')\n",
        "ind_val = pd.read_csv('nusax/datasets/sentiment/indonesian/valid.csv')\n",
        "eng_val = pd.read_csv('nusax/datasets/sentiment/english/valid.csv')\n",
        "\n",
        "mad_val = pd.read_csv('nusax/datasets/sentiment/madurese/valid.csv')\n",
        "nga_val = pd.read_csv('nusax/datasets/sentiment/ngaju/valid.csv')\n",
        "bat_val = pd.read_csv('nusax/datasets/sentiment/toba_batak/valid.csv')"
      ],
      "metadata": {
        "id": "Wu-gVIqgOP25"
      },
      "execution_count": null,
      "outputs": []
    },
    {
      "cell_type": "code",
      "source": [
        "ace_val['bahasa'] = 'aceh'\n",
        "bjr_val['bahasa'] = 'banjar'\n",
        "bali_val['bahasa'] = 'bali'\n",
        "bugi_val['bahasa'] = 'bugis'\n",
        "minang_val['bahasa'] = 'minang'\n",
        "jav_val['bahasa'] = 'jawa'\n",
        "sun_val['bahasa'] = 'sunda'\n",
        "ind_val['bahasa'] = 'indonesia'\n",
        "eng_val['bahasa'] = 'inggris'\n",
        "\n",
        "mad_val['bahasa'] = 'madura'\n",
        "nga_val['bahasa'] = 'ngaju'\n",
        "bat_val['bahasa'] = 'batak toba'"
      ],
      "metadata": {
        "id": "PAmM9UZ6O7RE"
      },
      "execution_count": null,
      "outputs": []
    },
    {
      "cell_type": "code",
      "source": [
        "ace_test = pd.read_csv('nusax/datasets/sentiment/acehnese/test.csv')\n",
        "bjr_test = pd.read_csv('nusax/datasets/sentiment/banjarese/test.csv')\n",
        "bali_test = pd.read_csv('nusax/datasets/sentiment/balinese/test.csv')\n",
        "bugi_test = pd.read_csv('nusax/datasets/sentiment/buginese/test.csv')\n",
        "minang_test = pd.read_csv('nusax/datasets/sentiment/minangkabau/test.csv')\n",
        "jav_test = pd.read_csv('nusax/datasets/sentiment/javanese/test.csv')\n",
        "sun_test = pd.read_csv('nusax/datasets/sentiment/sundanese/test.csv')\n",
        "ind_test = pd.read_csv('nusax/datasets/sentiment/indonesian/test.csv')\n",
        "eng_test = pd.read_csv('nusax/datasets/sentiment/english/test.csv')\n",
        "\n",
        "mad_test = pd.read_csv('nusax/datasets/sentiment/madurese/test.csv')\n",
        "nga_test = pd.read_csv('nusax/datasets/sentiment/ngaju/test.csv')\n",
        "bat_test = pd.read_csv('nusax/datasets/sentiment/toba_batak/test.csv')"
      ],
      "metadata": {
        "id": "kOqb_uapO0_x"
      },
      "execution_count": null,
      "outputs": []
    },
    {
      "cell_type": "code",
      "source": [
        "ace_test['bahasa'] = 'aceh'\n",
        "bjr_test['bahasa'] = 'banjar'\n",
        "bali_test['bahasa'] = 'bali'\n",
        "bugi_test['bahasa'] = 'bugis'\n",
        "minang_test['bahasa'] = 'minang'\n",
        "jav_test['bahasa'] = 'jawa'\n",
        "sun_test['bahasa'] = 'sunda'\n",
        "ind_test['bahasa'] = 'indonesia'\n",
        "eng_test['bahasa'] = 'inggris'\n",
        "\n",
        "mad_test['bahasa'] = 'madura'\n",
        "nga_test['bahasa'] = 'ngaju'\n",
        "bat_test['bahasa'] = 'batak toba'"
      ],
      "metadata": {
        "id": "yg--5Wz5PHcN"
      },
      "execution_count": null,
      "outputs": []
    },
    {
      "cell_type": "code",
      "source": [
        "data_train = pd.concat([ace_train, bjr_train, bali_train, bugi_train, minang_train, jav_train, sun_train, ind_train, eng_train, mad_train, nga_train, bat_train]).drop('id', axis=1)\n",
        "data_val = pd.concat([ace_val, bjr_val, bali_val, bugi_val, minang_val, jav_val, sun_val, ind_val, eng_val, mad_val, nga_val, bat_val]).drop('id', axis=1)\n",
        "data_test = pd.concat([ace_test, bjr_test, bali_test, bugi_test, minang_test, jav_test, sun_test, ind_test, eng_test, mad_test, nga_test, bat_test]).drop('id', axis=1)"
      ],
      "metadata": {
        "id": "OfCx18pzLhUk"
      },
      "execution_count": null,
      "outputs": []
    },
    {
      "cell_type": "code",
      "source": [
        "data_train.info(), data_val.info(), data_test.info()"
      ],
      "metadata": {
        "colab": {
          "base_uri": "https://localhost:8080/"
        },
        "id": "AQQlZzOIPGEy",
        "outputId": "622acc96-a083-47ff-b098-890699535933"
      },
      "execution_count": null,
      "outputs": [
        {
          "output_type": "stream",
          "name": "stdout",
          "text": [
            "<class 'pandas.core.frame.DataFrame'>\n",
            "Index: 6000 entries, 0 to 499\n",
            "Data columns (total 3 columns):\n",
            " #   Column  Non-Null Count  Dtype \n",
            "---  ------  --------------  ----- \n",
            " 0   text    6000 non-null   object\n",
            " 1   label   6000 non-null   object\n",
            " 2   bahasa  6000 non-null   object\n",
            "dtypes: object(3)\n",
            "memory usage: 187.5+ KB\n",
            "<class 'pandas.core.frame.DataFrame'>\n",
            "Index: 1200 entries, 0 to 99\n",
            "Data columns (total 3 columns):\n",
            " #   Column  Non-Null Count  Dtype \n",
            "---  ------  --------------  ----- \n",
            " 0   text    1200 non-null   object\n",
            " 1   label   1200 non-null   object\n",
            " 2   bahasa  1200 non-null   object\n",
            "dtypes: object(3)\n",
            "memory usage: 37.5+ KB\n",
            "<class 'pandas.core.frame.DataFrame'>\n",
            "Index: 4800 entries, 0 to 399\n",
            "Data columns (total 3 columns):\n",
            " #   Column  Non-Null Count  Dtype \n",
            "---  ------  --------------  ----- \n",
            " 0   text    4800 non-null   object\n",
            " 1   label   4800 non-null   object\n",
            " 2   bahasa  4800 non-null   object\n",
            "dtypes: object(3)\n",
            "memory usage: 150.0+ KB\n"
          ]
        },
        {
          "output_type": "execute_result",
          "data": {
            "text/plain": [
              "(None, None, None)"
            ]
          },
          "metadata": {},
          "execution_count": 16
        }
      ]
    },
    {
      "cell_type": "code",
      "source": [
        "data_train.to_csv('/content/drive/MyDrive/Final_Year/data_train.csv', index=False)\n",
        "data_val.to_csv('/content/drive/MyDrive/Final_Year/data_val.csv', index=False)\n",
        "data_test.to_csv('/content/drive/MyDrive/Final_Year/data_test.csv', index=False)"
      ],
      "metadata": {
        "id": "ufOhMHCwQB2Q",
        "colab": {
          "base_uri": "https://localhost:8080/",
          "height": 201
        },
        "outputId": "e4e4edca-d178-4952-a16a-b8b7cba795cb"
      },
      "execution_count": null,
      "outputs": [
        {
          "output_type": "error",
          "ename": "NameError",
          "evalue": "name 'data_train' is not defined",
          "traceback": [
            "\u001b[0;31m---------------------------------------------------------------------------\u001b[0m",
            "\u001b[0;31mNameError\u001b[0m                                 Traceback (most recent call last)",
            "\u001b[0;32m/tmp/ipython-input-1780785990.py\u001b[0m in \u001b[0;36m<cell line: 0>\u001b[0;34m()\u001b[0m\n\u001b[0;32m----> 1\u001b[0;31m \u001b[0mdata_train\u001b[0m\u001b[0;34m.\u001b[0m\u001b[0mto_csv\u001b[0m\u001b[0;34m(\u001b[0m\u001b[0;34m'/content/drive/MyDrive/Final_Year/data_train.csv'\u001b[0m\u001b[0;34m,\u001b[0m \u001b[0mindex\u001b[0m\u001b[0;34m=\u001b[0m\u001b[0;32mFalse\u001b[0m\u001b[0;34m)\u001b[0m\u001b[0;34m\u001b[0m\u001b[0;34m\u001b[0m\u001b[0m\n\u001b[0m\u001b[1;32m      2\u001b[0m \u001b[0mdata_val\u001b[0m\u001b[0;34m.\u001b[0m\u001b[0mto_csv\u001b[0m\u001b[0;34m(\u001b[0m\u001b[0;34m'/content/drive/MyDrive/Final_Year/data_val.csv'\u001b[0m\u001b[0;34m,\u001b[0m \u001b[0mindex\u001b[0m\u001b[0;34m=\u001b[0m\u001b[0;32mFalse\u001b[0m\u001b[0;34m)\u001b[0m\u001b[0;34m\u001b[0m\u001b[0;34m\u001b[0m\u001b[0m\n\u001b[1;32m      3\u001b[0m \u001b[0mdata_test\u001b[0m\u001b[0;34m.\u001b[0m\u001b[0mto_csv\u001b[0m\u001b[0;34m(\u001b[0m\u001b[0;34m'/content/drive/MyDrive/Final_Year/data_test.csv'\u001b[0m\u001b[0;34m,\u001b[0m \u001b[0mindex\u001b[0m\u001b[0;34m=\u001b[0m\u001b[0;32mFalse\u001b[0m\u001b[0;34m)\u001b[0m\u001b[0;34m\u001b[0m\u001b[0;34m\u001b[0m\u001b[0m\n",
            "\u001b[0;31mNameError\u001b[0m: name 'data_train' is not defined"
          ]
        }
      ]
    },
    {
      "cell_type": "code",
      "source": [
        "train = pd.read_csv('/content/drive/MyDrive/Final_Year/data_train.csv')\n",
        "val = pd.read_csv('/content/drive/MyDrive/Final_Year/data_val.csv')\n",
        "test = pd.read_csv('/content/drive/MyDrive/Final_Year/data_test.csv')"
      ],
      "metadata": {
        "id": "gStZGpoBLK_Y"
      },
      "execution_count": null,
      "outputs": []
    },
    {
      "cell_type": "code",
      "source": [
        "train.label"
      ],
      "metadata": {
        "colab": {
          "base_uri": "https://localhost:8080/",
          "height": 458
        },
        "id": "W1SFY2ILL3gX",
        "outputId": "8f935803-22cd-4d14-91bf-fbd03df74342"
      },
      "execution_count": null,
      "outputs": [
        {
          "output_type": "execute_result",
          "data": {
            "text/plain": [
              "0        neutral\n",
              "1       positive\n",
              "2        neutral\n",
              "3       positive\n",
              "4       positive\n",
              "          ...   \n",
              "5995    negative\n",
              "5996    positive\n",
              "5997    positive\n",
              "5998    negative\n",
              "5999    negative\n",
              "Name: label, Length: 6000, dtype: object"
            ],
            "text/html": [
              "<div>\n",
              "<style scoped>\n",
              "    .dataframe tbody tr th:only-of-type {\n",
              "        vertical-align: middle;\n",
              "    }\n",
              "\n",
              "    .dataframe tbody tr th {\n",
              "        vertical-align: top;\n",
              "    }\n",
              "\n",
              "    .dataframe thead th {\n",
              "        text-align: right;\n",
              "    }\n",
              "</style>\n",
              "<table border=\"1\" class=\"dataframe\">\n",
              "  <thead>\n",
              "    <tr style=\"text-align: right;\">\n",
              "      <th></th>\n",
              "      <th>label</th>\n",
              "    </tr>\n",
              "  </thead>\n",
              "  <tbody>\n",
              "    <tr>\n",
              "      <th>0</th>\n",
              "      <td>neutral</td>\n",
              "    </tr>\n",
              "    <tr>\n",
              "      <th>1</th>\n",
              "      <td>positive</td>\n",
              "    </tr>\n",
              "    <tr>\n",
              "      <th>2</th>\n",
              "      <td>neutral</td>\n",
              "    </tr>\n",
              "    <tr>\n",
              "      <th>3</th>\n",
              "      <td>positive</td>\n",
              "    </tr>\n",
              "    <tr>\n",
              "      <th>4</th>\n",
              "      <td>positive</td>\n",
              "    </tr>\n",
              "    <tr>\n",
              "      <th>...</th>\n",
              "      <td>...</td>\n",
              "    </tr>\n",
              "    <tr>\n",
              "      <th>5995</th>\n",
              "      <td>negative</td>\n",
              "    </tr>\n",
              "    <tr>\n",
              "      <th>5996</th>\n",
              "      <td>positive</td>\n",
              "    </tr>\n",
              "    <tr>\n",
              "      <th>5997</th>\n",
              "      <td>positive</td>\n",
              "    </tr>\n",
              "    <tr>\n",
              "      <th>5998</th>\n",
              "      <td>negative</td>\n",
              "    </tr>\n",
              "    <tr>\n",
              "      <th>5999</th>\n",
              "      <td>negative</td>\n",
              "    </tr>\n",
              "  </tbody>\n",
              "</table>\n",
              "<p>6000 rows × 1 columns</p>\n",
              "</div><br><label><b>dtype:</b> object</label>"
            ]
          },
          "metadata": {},
          "execution_count": 46
        }
      ]
    },
    {
      "cell_type": "code",
      "source": [
        "train.label.unique()"
      ],
      "metadata": {
        "colab": {
          "base_uri": "https://localhost:8080/"
        },
        "id": "JzGJxBM-Lupg",
        "outputId": "54b3c663-c95e-458a-eb68-bb9733dbe2ce"
      },
      "execution_count": null,
      "outputs": [
        {
          "output_type": "execute_result",
          "data": {
            "text/plain": [
              "array(['neutral', 'positive', 'negative'], dtype=object)"
            ]
          },
          "metadata": {},
          "execution_count": 61
        }
      ]
    },
    {
      "cell_type": "code",
      "source": [
        "# Bar Chart\n",
        "plt.figure()\n",
        "plt.bar(train.label.unique(), train.label.value_counts(), color=colors)\n",
        "plt.bar(train.label.unique(), val.label.value_counts(), color=colors)\n",
        "plt.bar(train.label.unique(), test.label.value_counts(), color=colors)\n",
        "plt.ylabel(\"Jumlah Data\")\n",
        "plt.xlabel(\"Label\")\n",
        "plt.show()"
      ],
      "metadata": {
        "colab": {
          "base_uri": "https://localhost:8080/",
          "height": 449
        },
        "id": "HuOv36zaLQH8",
        "outputId": "a2cb815a-cfed-4336-e64d-619bc501a1f3"
      },
      "execution_count": null,
      "outputs": [
        {
          "output_type": "display_data",
          "data": {
            "text/plain": [
              "<Figure size 640x480 with 1 Axes>"
            ],
            "image/png": "[encoded data removed]"
          },
          "metadata": {}
        }
      ]
    },
    {
      "cell_type": "code",
      "source": [
        "import matplotlib.pyplot as plt\n",
        "\n",
        "# urutan label tetap\n",
        "label_order = [\"positive\", \"neutral\", \"negative\"]\n",
        "# colors = [\"green\", \"gray\", \"red\"]\n",
        "colors = [\"#77DD77\", \"#CFCFCF\", \"#FF6961\"]\n",
        "\n",
        "def get_counts(df):\n",
        "    counts = df[\"label\"].value_counts()\n",
        "    return [counts.get(lbl, 0) for lbl in label_order]\n",
        "\n",
        "# ambil distribusi per dataset\n",
        "train_counts = get_counts(train)\n",
        "val_counts   = get_counts(val)\n",
        "test_counts  = get_counts(test)\n",
        "\n",
        "# buat subplot\n",
        "fig, axes = plt.subplots(1, 3, figsize=(12,4), sharey=True)\n",
        "\n",
        "# plot train\n",
        "axes[0].bar(label_order, train_counts, color=colors)\n",
        "axes[0].set_title(\"Training_all\")\n",
        "axes[0].set_ylabel(\"Jumlah Data\")\n",
        "\n",
        "# plot validation\n",
        "axes[1].bar(label_order, val_counts, color=colors)\n",
        "axes[1].set_title(\"Validation_all\")\n",
        "\n",
        "# plot test\n",
        "axes[2].bar(label_order, test_counts, color=colors)\n",
        "axes[2].set_title(\"Testing_all\")\n",
        "\n",
        "# tampilkan\n",
        "# plt.suptitle(\"Distribusi Label pada Train, Validation, dan Test\")\n",
        "plt.show()\n"
      ],
      "metadata": {
        "colab": {
          "base_uri": "https://localhost:8080/",
          "height": 273
        },
        "id": "NBUHGfvwQRaV",
        "outputId": "1532e6d5-d37c-408f-d028-2df6ef94b6c4"
      },
      "execution_count": null,
      "outputs": [
        {
          "output_type": "display_data",
          "data": {
            "text/plain": [
              "<Figure size 1200x400 with 3 Axes>"
            ],
            "image/png": "[encoded data removed]"
          },
          "metadata": {}
        }
      ]
    },
    {
      "cell_type": "code",
      "source": [
        "import matplotlib.pyplot as plt\n",
        "import seaborn as sns\n",
        "\n",
        "datasets = [\"Training_all\", \"Testing_all\", \"Validation_all\"]\n",
        "jumlah_data = [6000, 4800, 1200]\n",
        "\n",
        "total = sum(jumlah_data)\n",
        "persentase = [x / total * 100 for x in jumlah_data]\n",
        "\n",
        "# Bar Chart\n",
        "# plt.figure()\n",
        "# plt.bar(datasets, jumlah_data, color=['blue', 'green', 'red'])\n",
        "# plt.title(\"Distribusi Jumlah Data per Dataset\")\n",
        "# plt.ylabel(\"Jumlah Data\")\n",
        "# plt.xlabel(\"Dataset\")\n",
        "# plt.show()"
      ],
      "metadata": {
        "id": "xdtpJa0hI6kR"
      },
      "execution_count": null,
      "outputs": []
    },
    {
      "cell_type": "code",
      "source": [
        "# Pie Chart\n",
        "colors = sns.color_palette('pastel')\n",
        "plt.figure(figsize=(6,6))\n",
        "plt.pie(jumlah_data, labels=datasets, autopct='%.0f%%', startangle=140, colors=colors)\n",
        "plt.show()\n"
      ],
      "metadata": {
        "colab": {
          "base_uri": "https://localhost:8080/",
          "height": 499
        },
        "id": "PbxngJvE-Wbi",
        "outputId": "f3c76a8e-60ec-4920-97ac-478b3e073421"
      },
      "execution_count": null,
      "outputs": [
        {
          "output_type": "display_data",
          "data": {
            "text/plain": [
              "<Figure size 600x600 with 1 Axes>"
            ],
            "image/png": "[encoded data removed]"
          },
          "metadata": {}
        }
      ]
    },
    {
      "cell_type": "code",
      "source": [
        "list(train[train.label == 'negative'].head(25).text)"
      ],
      "metadata": {
        "id": "X2zi1g57-YBx",
        "colab": {
          "base_uri": "https://localhost:8080/"
        },
        "outputId": "bcf54065-b415-421e-d242-078fa510aa56"
      },
      "execution_count": null,
      "outputs": [
        {
          "output_type": "execute_result",
          "data": {
            "text/plain": [
              "['Barangjih lumayan, tapi nyang lon hireun xiaomi rednote 2 nyoe tombol peuudep cit lagee ka reuloh? lheuh nyan batre peue cit bagah that abeh toke?',\n",
              " 'Payah that ta pateh ureueng nyang ka tom ji meukhianat',\n",
              " 'Bu gureng thailand yum 35 ribee, polos, cit na suir ayam bacut. Seafoodjih hana.',\n",
              " 'Lagee nyang ka tateupeue, kue brownies nyang asli dari Amerika nyankeuh kue banteut wareuna coklat.  Toko Amanda gepeungui brownies deungon cara geuseuop. Brownies nyang teuseuop nyan hana pah sagai, sama cit lagee bolu biasa. Jadi meunyo bak lon peugah, nyan kon brownies.',\n",
              " 'Lon trok pajoh bu malam ngon keuluarga. Nyoe phon kali lon keunoe. Kondisi hana that rame. Keu Interior, agak kuto meunurot lon. Na khot-khot makanan bak aleue ngon meja, bak lagee hana get jipeugleh. Keu rasa makanan, standar, hana istimewa that.',\n",
              " 'Bek neupesan rot layanan nyoe beh rakan-rakan. Teulah that! Villajih kuto, mandum  barang hana layak ngui',\n",
              " 'seubagoe netizen nyang baro beuleuen peuet keulikot jak meuen u toba, keuneuk peugah mantong bahwa beutoi le that hai nyang peugot kecewa dari sistem pariwisata ideh. Parapat-jih kuto, payah bak tamita akomodasi nyang beutoi-beutoi get, agen perjalanan hana profesional, pokokjih hana loen sarankan jak u parapat',\n",
              " 'Kuto that dan hana jihiroe lle peulayan restoran. Keucewa that peulayananjih!',\n",
              " 'Tempatjih meunyoe bak lon that biasa, hana gleh. Makanan pih biasa mantong',\n",
              " 'Untuk useuha nyang geupeuteubiet dari  teumpat khong taguen mantong. Meunyo ukoran kuliner bandung nyang mangat-mangat, nyoe that teulah tabloe, Na karcis tamong per sidroe ureueng 10.000 keu moto 15.000.',\n",
              " 'Lon kalheuh lakee penjelasan u pihak Gramedia tapi i tiek-tiek hana glah sapeue. Pihak gramed sampoe SPV di cabang nyan saleng tiek-rhom dan geupeugah hana promo. Cut ate meunyo di tiek-rhom lagee nyan.',\n",
              " 'Meunurot kamoe teumpat nyoe biasa mantong hana aksi atau pemandangan nyang menarek ngon tiket 10000/ureueng, meunyoe gunong cit ka meunan seubab na di daerah manyang. Nyoe wisata peunajoh pih hana that le pilihan lagee tempat tempat saboh teuk.',\n",
              " 'Lon ka jeuet keu pelanggan madtari dari thon 2002, watee nyan mantong lagee warong ubiet lam tenda nyang rame bak malam uroe. Slang padum thon ukeue ka meutempat bak bangunan teutap, dari sat nyan lon merasa kualitah rasajih agak meukureueng dibandeng ngon watee mantong lam warong tenda. Nyang jelah, yum di ek cukup teurasa, dibandeng ngon warong nyang meuhi-meuhi lagee nyan, mungken leubeh meuhai.',\n",
              " 'Lon cemburu meueu awak droen jeuet neurasa bahgia.',\n",
              " 'Lheueh bloe pulsa keuneuk daftar paket internet tapi hanjeuet sabe dan diyue ulang lom di 363 tapi hanjeuet cit',\n",
              " 'Karyawan beuo keu peue jok cuti, Bisns teungoh brok jak foya-foya. Seumike!',\n",
              " 'Wah sama lagee loen abang ban satnyoe, paket freedom loen hana abeh lom tapi ka dibebankan tarif internet perle sampek pulsa sekitar 40 ribee loen ka disedot perampok',\n",
              " 'Rumoh makan nyoe cit jeut tapeugah leubeh murah meunyo tabandeng ngon rumoh makan laen. Tapi peunajoh nyang dihideung pih biasa mantong hana nyang istimewa. Ladom makanan nyang na cit eungkot ngon manok teucroh. Jeut ta kheun makananjih hana meuragam sagai.',\n",
              " 'Kama manoe hana layak, keu rhah jaroe hana geuseudiya sabon.',\n",
              " 'Hana mangat pajoh di restoran, han jeuet lakee kuah opor manok bacut lagee bak warteg',\n",
              " 'Payah that tameuphom ureueng nyang kepike droe sabe beutoi',\n",
              " 'Memang nyo mie sedap asoejih le, meunyo nyum talo ngon nyang laen',\n",
              " 'Watee jak keuno kon masa musem stroberi sehingga bohjih ubit-ubit dan hana get. Jadi cuma cok ube ala kada mantong.  __weueh__',\n",
              " 'Peunajoh restoran nyoe rata-rata hana mangat.',\n",
              " 'Baro ta pakek padup uroe ka langsung heng, power bank hanjet ta pakek keu leumpe. Harus ta me u tempat service.']"
            ]
          },
          "metadata": {},
          "execution_count": 20
        }
      ]
    },
    {
      "cell_type": "code",
      "source": [
        "from transformers import AutoTokenizer\n",
        "model_name = \"facebook/nllb-200-distilled-600M\"\n",
        "tokenizer = AutoTokenizer.from_pretrained(model_name)"
      ],
      "metadata": {
        "id": "-L2tZxjv-X_G",
        "colab": {
          "base_uri": "https://localhost:8080/",
          "height": 128,
          "referenced_widgets": [
            "8003120793324ab38410a52078074c0f",
            "c5adbceba18c408dad844b1343cdcb64",
            "1ed250dc144045ee8199f1eb1ad08d59",
            "730f15a1a80a409d8482ff2d26dba205",
            "96f1f110b8484d9eb2bfd6b886f85de4",
            "3dc7b3beaaea4abb8fa5bf591b240e11",
            "f94ddf03f6f542fd8791f7b0a8baccf6",
            "443f19b54ec94642a85f362199fd861d",
            "ad27bd80a4da4facac0a6967d98acb2f",
            "fbe82e17c6444762b18e77e14dadb68b",
            "ea0e80e79aa04cafa910d957d01e6df2",
            "7e307d6b440242008dadd71f7f4bbaf4",
            "d88f12aa3c9c4dc2ae08782fc54f6bd8",
            "502918dd25204741afec5d9fc64e7554",
            "418f4ebf4f97468abe88c47a0e30badb",
            "006b8d922aef4dccbb3f3211c24a6a95",
            "db3bf5af361f44ffa9860073395cbeaa",
            "aa04797d1dcc400596a4717e46230fe8",
            "000a44351d16487b9affae40a64846b6",
            "8242e7af26914783baacdb743fb728d5"
          ]
        },
        "outputId": "f8c6d605-bf41-49d8-9803-e95de8766d62"
      },
      "execution_count": null,
      "outputs": [
        {
          "output_type": "stream",
          "name": "stderr",
          "text": [
            "/usr/local/lib/python3.12/dist-packages/huggingface_hub/utils/_auth.py:104: UserWarning: \n",
            "Error while fetching `HF_TOKEN` secret value from your vault: 'Requesting secret HF_TOKEN timed out. Secrets can only be fetched when running from the Colab UI.'.\n",
            "You are not authenticated with the Hugging Face Hub in this notebook.\n",
            "If the error persists, please let us know by opening an issue on GitHub (https://github.com/huggingface/huggingface_hub/issues/new).\n",
            "  warnings.warn(\n"
          ]
        },
        {
          "output_type": "display_data",
          "data": {
            "text/plain": [
              "tokenizer_config.json:   0%|          | 0.00/564 [00:00<?, ?B/s]"
            ],
            "application/vnd.jupyter.widget-view+json": {
              "version_major": 2,
              "version_minor": 0,
              "model_id": "8003120793324ab38410a52078074c0f"
            }
          },
          "metadata": {}
        },
        {
          "output_type": "display_data",
          "data": {
            "text/plain": [
              "sentencepiece.bpe.model:   0%|          | 0.00/4.85M [00:00<?, ?B/s]"
            ],
            "application/vnd.jupyter.widget-view+json": {
              "version_major": 2,
              "version_minor": 0,
              "model_id": "c5adbceba18c408dad844b1343cdcb64"
            }
          },
          "metadata": {}
        },
        {
          "output_type": "display_data",
          "data": {
            "text/plain": [
              "tokenizer.json:   0%|          | 0.00/17.3M [00:00<?, ?B/s]"
            ],
            "application/vnd.jupyter.widget-view+json": {
              "version_major": 2,
              "version_minor": 0,
              "model_id": "1ed250dc144045ee8199f1eb1ad08d59"
            }
          },
          "metadata": {}
        },
        {
          "output_type": "display_data",
          "data": {
            "text/plain": [
              "special_tokens_map.json: 0.00B [00:00, ?B/s]"
            ],
            "application/vnd.jupyter.widget-view+json": {
              "version_major": 2,
              "version_minor": 0,
              "model_id": "730f15a1a80a409d8482ff2d26dba205"
            }
          },
          "metadata": {}
        }
      ]
    },
    {
      "cell_type": "code",
      "source": [
        "tokenizer.tokenize(\"peulayanan bus DAMRI cukop get\")"
      ],
      "metadata": {
        "colab": {
          "base_uri": "https://localhost:8080/"
        },
        "id": "H7DLPP1KG2pM",
        "outputId": "692a3380-5705-4f0c-8d2f-f48929e45ab5"
      },
      "execution_count": null,
      "outputs": [
        {
          "output_type": "execute_result",
          "data": {
            "text/plain": [
              "['▁peula', 'yanan', '▁bus', '▁D', 'AM', 'RI', '▁cuk', 'op', '▁get']"
            ]
          },
          "metadata": {},
          "execution_count": 25
        }
      ]
    },
    {
      "cell_type": "code",
      "source": [
        "tokenizer(\"peulayanan bus DAMRI cukop get\")"
      ],
      "metadata": {
        "id": "mcWkHggY-X6p",
        "colab": {
          "base_uri": "https://localhost:8080/"
        },
        "outputId": "80cd1ca0-7ceb-43fa-9e93-51b49ecb44bd"
      },
      "execution_count": null,
      "outputs": [
        {
          "output_type": "execute_result",
          "data": {
            "text/plain": [
              "{'input_ids': [256047, 119844, 22871, 5242, 122, 10225, 31984, 13324, 220, 4023, 2], 'attention_mask': [1, 1, 1, 1, 1, 1, 1, 1, 1, 1, 1]}"
            ]
          },
          "metadata": {},
          "execution_count": 23
        }
      ]
    },
    {
      "cell_type": "code",
      "source": [
        "teks = [\"ini adalah contoh teks\",\"ini adalah teks yang lebih panjang\"]\n",
        "tokenizer(\n",
        "      teks,\n",
        "      padding=True,\n",
        "      truncation=True,\n",
        "      max_length=200,\n",
        "      return_tensors=\"pt\"\n",
        "  )"
      ],
      "metadata": {
        "colab": {
          "base_uri": "https://localhost:8080/"
        },
        "id": "4jVYfh11HofH",
        "outputId": "d3d5c9f5-b468-4962-91f5-317247aac5a3"
      },
      "execution_count": null,
      "outputs": [
        {
          "output_type": "execute_result",
          "data": {
            "text/plain": [
              "{'input_ids': tensor([[256047,   1432,   3276,  43780,  57676,      2,      1,      1],\n",
              "        [256047,   1432,   3276,  57676,    512,   3930,  29045,      2]]), 'attention_mask': tensor([[1, 1, 1, 1, 1, 1, 0, 0],\n",
              "        [1, 1, 1, 1, 1, 1, 1, 1]])}"
            ]
          },
          "metadata": {},
          "execution_count": 32
        }
      ]
    },
    {
      "cell_type": "code",
      "source": [
        "def print_grid_nxn(n):\n",
        "  atas = ('+' + ' - '*4) * n + '+'\n",
        "  tengah = ('|' + ' '*12) * n + '|' + '\\n'\n",
        "  print(atas)\n",
        "  for i in range(n):\n",
        "    print(tengah*4, end='')\n",
        "    print(atas)"
      ],
      "metadata": {
        "id": "CI6zpdrQbRRd"
      },
      "execution_count": null,
      "outputs": []
    },
    {
      "cell_type": "code",
      "source": [
        "print_grid_nxn(5)"
      ],
      "metadata": {
        "colab": {
          "base_uri": "https://localhost:8080/"
        },
        "id": "irXBPijjr27N",
        "outputId": "a5bf2140-b784-49ab-bcb2-cc9bc9de0299"
      },
      "execution_count": null,
      "outputs": [
        {
          "output_type": "stream",
          "name": "stdout",
          "text": [
            "+ -  -  -  - + -  -  -  - + -  -  -  - + -  -  -  - + -  -  -  - +\n",
            "|            |            |            |            |            |\n",
            "|            |            |            |            |            |\n",
            "|            |            |            |            |            |\n",
            "|            |            |            |            |            |\n",
            "+ -  -  -  - + -  -  -  - + -  -  -  - + -  -  -  - + -  -  -  - +\n",
            "|            |            |            |            |            |\n",
            "|            |            |            |            |            |\n",
            "|            |            |            |            |            |\n",
            "|            |            |            |            |            |\n",
            "+ -  -  -  - + -  -  -  - + -  -  -  - + -  -  -  - + -  -  -  - +\n",
            "|            |            |            |            |            |\n",
            "|            |            |            |            |            |\n",
            "|            |            |            |            |            |\n",
            "|            |            |            |            |            |\n",
            "+ -  -  -  - + -  -  -  - + -  -  -  - + -  -  -  - + -  -  -  - +\n",
            "|            |            |            |            |            |\n",
            "|            |            |            |            |            |\n",
            "|            |            |            |            |            |\n",
            "|            |            |            |            |            |\n",
            "+ -  -  -  - + -  -  -  - + -  -  -  - + -  -  -  - + -  -  -  - +\n",
            "|            |            |            |            |            |\n",
            "|            |            |            |            |            |\n",
            "|            |            |            |            |            |\n",
            "|            |            |            |            |            |\n",
            "+ -  -  -  - + -  -  -  - + -  -  -  - + -  -  -  - + -  -  -  - +\n"
          ]
        }
      ]
    },
    {
      "cell_type": "code",
      "source": [],
      "metadata": {
        "id": "kprF_RUnYdjZ"
      },
      "execution_count": null,
      "outputs": []
    }
  ]
}